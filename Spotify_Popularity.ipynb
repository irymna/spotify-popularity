{
 "cells": [
  {
   "cell_type": "code",
   "execution_count": 21,
   "id": "55056c71",
   "metadata": {},
   "outputs": [],
   "source": [
    "import pandas as pd\n",
    "import matplotlib.pyplot as plt\n",
    "import seaborn as sns\n",
    "\n",
    "# mesagens de warning\n",
    "import warnings\n",
    "warnings.filterwarnings(\"ignore\")"
   ]
  },
  {
   "cell_type": "code",
   "execution_count": 22,
   "id": "b5c69fb9",
   "metadata": {},
   "outputs": [
    {
     "data": {
      "text/html": [
       "<div>\n",
       "<style scoped>\n",
       "    .dataframe tbody tr th:only-of-type {\n",
       "        vertical-align: middle;\n",
       "    }\n",
       "\n",
       "    .dataframe tbody tr th {\n",
       "        vertical-align: top;\n",
       "    }\n",
       "\n",
       "    .dataframe thead th {\n",
       "        text-align: right;\n",
       "    }\n",
       "</style>\n",
       "<table border=\"1\" class=\"dataframe\">\n",
       "  <thead>\n",
       "    <tr style=\"text-align: right;\">\n",
       "      <th></th>\n",
       "      <th>track_id</th>\n",
       "      <th>artists</th>\n",
       "      <th>album_name</th>\n",
       "      <th>track_name</th>\n",
       "      <th>popularity</th>\n",
       "      <th>duration_ms</th>\n",
       "      <th>explicit</th>\n",
       "      <th>danceability</th>\n",
       "      <th>energy</th>\n",
       "      <th>key</th>\n",
       "      <th>loudness</th>\n",
       "      <th>mode</th>\n",
       "      <th>speechiness</th>\n",
       "      <th>acousticness</th>\n",
       "      <th>instrumentalness</th>\n",
       "      <th>liveness</th>\n",
       "      <th>valence</th>\n",
       "      <th>tempo</th>\n",
       "      <th>time_signature</th>\n",
       "      <th>track_genre</th>\n",
       "    </tr>\n",
       "  </thead>\n",
       "  <tbody>\n",
       "    <tr>\n",
       "      <th>0</th>\n",
       "      <td>5SuOikwiRyPMVoIQDJUgSV</td>\n",
       "      <td>Gen Hoshino</td>\n",
       "      <td>Comedy</td>\n",
       "      <td>Comedy</td>\n",
       "      <td>73</td>\n",
       "      <td>230666</td>\n",
       "      <td>False</td>\n",
       "      <td>0.676</td>\n",
       "      <td>0.4610</td>\n",
       "      <td>1</td>\n",
       "      <td>-6.746</td>\n",
       "      <td>0</td>\n",
       "      <td>0.1430</td>\n",
       "      <td>0.0322</td>\n",
       "      <td>0.000001</td>\n",
       "      <td>0.3580</td>\n",
       "      <td>0.715</td>\n",
       "      <td>87.917</td>\n",
       "      <td>4</td>\n",
       "      <td>acoustic</td>\n",
       "    </tr>\n",
       "    <tr>\n",
       "      <th>1</th>\n",
       "      <td>4qPNDBW1i3p13qLCt0Ki3A</td>\n",
       "      <td>Ben Woodward</td>\n",
       "      <td>Ghost (Acoustic)</td>\n",
       "      <td>Ghost - Acoustic</td>\n",
       "      <td>55</td>\n",
       "      <td>149610</td>\n",
       "      <td>False</td>\n",
       "      <td>0.420</td>\n",
       "      <td>0.1660</td>\n",
       "      <td>1</td>\n",
       "      <td>-17.235</td>\n",
       "      <td>1</td>\n",
       "      <td>0.0763</td>\n",
       "      <td>0.9240</td>\n",
       "      <td>0.000006</td>\n",
       "      <td>0.1010</td>\n",
       "      <td>0.267</td>\n",
       "      <td>77.489</td>\n",
       "      <td>4</td>\n",
       "      <td>acoustic</td>\n",
       "    </tr>\n",
       "    <tr>\n",
       "      <th>2</th>\n",
       "      <td>1iJBSr7s7jYXzM8EGcbK5b</td>\n",
       "      <td>Ingrid Michaelson;ZAYN</td>\n",
       "      <td>To Begin Again</td>\n",
       "      <td>To Begin Again</td>\n",
       "      <td>57</td>\n",
       "      <td>210826</td>\n",
       "      <td>False</td>\n",
       "      <td>0.438</td>\n",
       "      <td>0.3590</td>\n",
       "      <td>0</td>\n",
       "      <td>-9.734</td>\n",
       "      <td>1</td>\n",
       "      <td>0.0557</td>\n",
       "      <td>0.2100</td>\n",
       "      <td>0.000000</td>\n",
       "      <td>0.1170</td>\n",
       "      <td>0.120</td>\n",
       "      <td>76.332</td>\n",
       "      <td>4</td>\n",
       "      <td>acoustic</td>\n",
       "    </tr>\n",
       "    <tr>\n",
       "      <th>3</th>\n",
       "      <td>6lfxq3CG4xtTiEg7opyCyx</td>\n",
       "      <td>Kina Grannis</td>\n",
       "      <td>Crazy Rich Asians (Original Motion Picture Sou...</td>\n",
       "      <td>Can't Help Falling In Love</td>\n",
       "      <td>71</td>\n",
       "      <td>201933</td>\n",
       "      <td>False</td>\n",
       "      <td>0.266</td>\n",
       "      <td>0.0596</td>\n",
       "      <td>0</td>\n",
       "      <td>-18.515</td>\n",
       "      <td>1</td>\n",
       "      <td>0.0363</td>\n",
       "      <td>0.9050</td>\n",
       "      <td>0.000071</td>\n",
       "      <td>0.1320</td>\n",
       "      <td>0.143</td>\n",
       "      <td>181.740</td>\n",
       "      <td>3</td>\n",
       "      <td>acoustic</td>\n",
       "    </tr>\n",
       "    <tr>\n",
       "      <th>4</th>\n",
       "      <td>5vjLSffimiIP26QG5WcN2K</td>\n",
       "      <td>Chord Overstreet</td>\n",
       "      <td>Hold On</td>\n",
       "      <td>Hold On</td>\n",
       "      <td>82</td>\n",
       "      <td>198853</td>\n",
       "      <td>False</td>\n",
       "      <td>0.618</td>\n",
       "      <td>0.4430</td>\n",
       "      <td>2</td>\n",
       "      <td>-9.681</td>\n",
       "      <td>1</td>\n",
       "      <td>0.0526</td>\n",
       "      <td>0.4690</td>\n",
       "      <td>0.000000</td>\n",
       "      <td>0.0829</td>\n",
       "      <td>0.167</td>\n",
       "      <td>119.949</td>\n",
       "      <td>4</td>\n",
       "      <td>acoustic</td>\n",
       "    </tr>\n",
       "  </tbody>\n",
       "</table>\n",
       "</div>"
      ],
      "text/plain": [
       "                 track_id                 artists  \\\n",
       "0  5SuOikwiRyPMVoIQDJUgSV             Gen Hoshino   \n",
       "1  4qPNDBW1i3p13qLCt0Ki3A            Ben Woodward   \n",
       "2  1iJBSr7s7jYXzM8EGcbK5b  Ingrid Michaelson;ZAYN   \n",
       "3  6lfxq3CG4xtTiEg7opyCyx            Kina Grannis   \n",
       "4  5vjLSffimiIP26QG5WcN2K        Chord Overstreet   \n",
       "\n",
       "                                          album_name  \\\n",
       "0                                             Comedy   \n",
       "1                                   Ghost (Acoustic)   \n",
       "2                                     To Begin Again   \n",
       "3  Crazy Rich Asians (Original Motion Picture Sou...   \n",
       "4                                            Hold On   \n",
       "\n",
       "                   track_name  popularity  duration_ms  explicit  \\\n",
       "0                      Comedy          73       230666     False   \n",
       "1            Ghost - Acoustic          55       149610     False   \n",
       "2              To Begin Again          57       210826     False   \n",
       "3  Can't Help Falling In Love          71       201933     False   \n",
       "4                     Hold On          82       198853     False   \n",
       "\n",
       "   danceability  energy  key  loudness  mode  speechiness  acousticness  \\\n",
       "0         0.676  0.4610    1    -6.746     0       0.1430        0.0322   \n",
       "1         0.420  0.1660    1   -17.235     1       0.0763        0.9240   \n",
       "2         0.438  0.3590    0    -9.734     1       0.0557        0.2100   \n",
       "3         0.266  0.0596    0   -18.515     1       0.0363        0.9050   \n",
       "4         0.618  0.4430    2    -9.681     1       0.0526        0.4690   \n",
       "\n",
       "   instrumentalness  liveness  valence    tempo  time_signature track_genre  \n",
       "0          0.000001    0.3580    0.715   87.917               4    acoustic  \n",
       "1          0.000006    0.1010    0.267   77.489               4    acoustic  \n",
       "2          0.000000    0.1170    0.120   76.332               4    acoustic  \n",
       "3          0.000071    0.1320    0.143  181.740               3    acoustic  \n",
       "4          0.000000    0.0829    0.167  119.949               4    acoustic  "
      ]
     },
     "execution_count": 22,
     "metadata": {},
     "output_type": "execute_result"
    }
   ],
   "source": [
    "df = pd.read_csv(r'C:\\Users\\iryna\\Desktop\\spotify\\archive\\dataset.csv', index_col = 0)\n",
    "df.head()"
   ]
  },
  {
   "cell_type": "markdown",
   "id": "6f5e72bc",
   "metadata": {},
   "source": [
    "### Colunas\n",
    "\n",
    "**track_id**: ID do Spotify para a música.\n",
    "\n",
    "**artists**: nome do artista.\n",
    "\n",
    "**album_name**: nome do álbum.\n",
    "\n",
    "**track_name**: nome da música.\n",
    "\n",
    "**popularity**: poipularidade da música. Vai de 0 a 100, em que 100 é o mais popular. A popularidade é calculada por algoritmo e baseia-se, em grande parte, no número total de reproduções que a faixa teve.\n",
    "\n",
    "**duration_ms**: duração da música em milissegundos.\n",
    "\n",
    "**explicit**: se a música é ou não explícita.\n",
    "\n",
    "**danceability**: valor de 0.0 à 1.0 que descreve o quão adequada uma faixa é para dançar com base em uma combinação de elementos musicais, incluindo o tempo, a estabilidade do ritmo, a intensidade do ritmo e a regularidade geral.\n",
    "\n",
    "**energy**: valor de 0.0 à 1.0 que mede a intensidade e atividade da música. Quanto maior, mais energética, rápida, alta e barulhenta a música é.\n",
    "\n",
    "**key**: A tonalidade da faixa é indicada usando números inteiros conforme a notação padrão de classes de altura. Por exemplo, 0 = Dó, 1 = Dó sustenido/Ré bemol, 2 = Ré, e assim por diante. Se nenhuma tonalidade for detectada, o valor será -1.\n",
    "\n",
    "**loudness**: A loudness geral de uma faixa é medida em decibéis (dB).\n",
    "\n",
    "**mode**: vai de 0 à 1 e indica a modalidade (maior ou menor) da música, o tipo de escala a partir da qual seu conteúdo melódico é derivado.\n",
    "\n",
    "**speechiness**: O atributo \"Speechiness\" detecta a presença de palavras faladas em uma faixa. Quanto mais exclusivamente falado for o conteúdo da gravação (como programas de entrevistas, audiolivros, poesia), mais próximo de 1.0 será o valor desse atributo. Valores acima de 0.66 descrevem faixas que provavelmente são compostas inteiramente por palavras faladas. Valores entre 0.33 e 0.66 descrevem faixas que podem conter tanto música quanto palavras faladas, seja em seções separadas ou sobrepostas, incluindo casos como músicas de rap. Valores abaixo de 0.33 provavelmente representam músicas e faixas não relacionadas a palavras faladas.\n",
    "\n",
    "**acousticness**: a mensuração, de 0.0 à 1.0, se a música é acústica. 1 representa que a faixa é acústica.\n",
    "\n",
    "**instrumentalness**: Prevê se uma faixa não contém vocais. Os sons \"ooh\" e \"aah\" são tratados como instrumentais nesse contexto. Faixas de rap ou palavras faladas são claramente consideradas \"vocais\". Quanto mais próximo o valor de instrumentalidade for de 1.0, maior a probabilidade de a faixa não conter conteúdo vocal.\n",
    "\n",
    "**liveness**: mede a presença de audiência na gravação da música. Valores mais altos de \"liveness\" representam uma probabilidade aumentada de que a faixa tenha sido tocada ao vivo. Um valor acima de 0.8 indica uma forte probabilidade de que a faixa seja ao vivo.\n",
    "\n",
    "**valence**: Uma medida de 0.0 a 1.0 descrevendo a positividade musical transmitida por uma faixa. Faixas com alto valor de \"valence\" transmitem mais positividade (como alegria, felicidade, euforia), enquanto faixas com baixo valor de \"valence\" transmitem mais negatividade (como tristeza, depressão, raiva).\n",
    "\n",
    "**tempo**: O tempo estimado geral de uma faixa expresso em batidas por minuto (BPM). Em terminologia musical, o tempo se refere à velocidade ou ritmo de uma determinada peça e é diretamente derivado da duração média das batidas.\n",
    "\n",
    "**time_signature**: Uma assinatura de compasso estimada. A assinatura de compasso é uma convenção notacional que especifica quantas batidas há em cada compasso. A assinatura de compasso varia de 3 a 7, indicando assinaturas de compasso de 3/4 a 7/4.\n",
    "\n",
    "**track_genre**: gênero da música."
   ]
  },
  {
   "cell_type": "markdown",
   "id": "2a7bbde8",
   "metadata": {},
   "source": [
    "## Análise dos dados 🔎\n",
    "\n",
    "Nesse bloco, veremos com mais aprofundidade o que eles tem para nos dizer. Nisso, farei 3 grandes análises: um olhar mais atento ao campo de popularidade, correlações entre os campos e as características musicais."
   ]
  },
  {
   "cell_type": "code",
   "execution_count": 23,
   "id": "5ab884a1",
   "metadata": {},
   "outputs": [
    {
     "name": "stdout",
     "output_type": "stream",
     "text": [
      "<class 'pandas.core.frame.DataFrame'>\n",
      "Int64Index: 114000 entries, 0 to 113999\n",
      "Data columns (total 20 columns):\n",
      " #   Column            Non-Null Count   Dtype  \n",
      "---  ------            --------------   -----  \n",
      " 0   track_id          114000 non-null  object \n",
      " 1   artists           113999 non-null  object \n",
      " 2   album_name        113999 non-null  object \n",
      " 3   track_name        113999 non-null  object \n",
      " 4   popularity        114000 non-null  int64  \n",
      " 5   duration_ms       114000 non-null  int64  \n",
      " 6   explicit          114000 non-null  bool   \n",
      " 7   danceability      114000 non-null  float64\n",
      " 8   energy            114000 non-null  float64\n",
      " 9   key               114000 non-null  int64  \n",
      " 10  loudness          114000 non-null  float64\n",
      " 11  mode              114000 non-null  int64  \n",
      " 12  speechiness       114000 non-null  float64\n",
      " 13  acousticness      114000 non-null  float64\n",
      " 14  instrumentalness  114000 non-null  float64\n",
      " 15  liveness          114000 non-null  float64\n",
      " 16  valence           114000 non-null  float64\n",
      " 17  tempo             114000 non-null  float64\n",
      " 18  time_signature    114000 non-null  int64  \n",
      " 19  track_genre       114000 non-null  object \n",
      "dtypes: bool(1), float64(9), int64(5), object(5)\n",
      "memory usage: 17.5+ MB\n"
     ]
    }
   ],
   "source": [
    "df.info()"
   ]
  },
  {
   "cell_type": "code",
   "execution_count": 24,
   "id": "f4e7d236",
   "metadata": {},
   "outputs": [
    {
     "data": {
      "text/html": [
       "<div>\n",
       "<style scoped>\n",
       "    .dataframe tbody tr th:only-of-type {\n",
       "        vertical-align: middle;\n",
       "    }\n",
       "\n",
       "    .dataframe tbody tr th {\n",
       "        vertical-align: top;\n",
       "    }\n",
       "\n",
       "    .dataframe thead th {\n",
       "        text-align: right;\n",
       "    }\n",
       "</style>\n",
       "<table border=\"1\" class=\"dataframe\">\n",
       "  <thead>\n",
       "    <tr style=\"text-align: right;\">\n",
       "      <th></th>\n",
       "      <th>popularity</th>\n",
       "      <th>duration_ms</th>\n",
       "      <th>danceability</th>\n",
       "      <th>energy</th>\n",
       "      <th>key</th>\n",
       "      <th>loudness</th>\n",
       "      <th>mode</th>\n",
       "      <th>speechiness</th>\n",
       "      <th>acousticness</th>\n",
       "      <th>instrumentalness</th>\n",
       "      <th>liveness</th>\n",
       "      <th>valence</th>\n",
       "      <th>tempo</th>\n",
       "      <th>time_signature</th>\n",
       "    </tr>\n",
       "  </thead>\n",
       "  <tbody>\n",
       "    <tr>\n",
       "      <th>count</th>\n",
       "      <td>114000.000000</td>\n",
       "      <td>1.140000e+05</td>\n",
       "      <td>114000.000000</td>\n",
       "      <td>114000.000000</td>\n",
       "      <td>114000.000000</td>\n",
       "      <td>114000.000000</td>\n",
       "      <td>114000.000000</td>\n",
       "      <td>114000.000000</td>\n",
       "      <td>114000.000000</td>\n",
       "      <td>114000.000000</td>\n",
       "      <td>114000.000000</td>\n",
       "      <td>114000.000000</td>\n",
       "      <td>114000.000000</td>\n",
       "      <td>114000.000000</td>\n",
       "    </tr>\n",
       "    <tr>\n",
       "      <th>mean</th>\n",
       "      <td>33.238535</td>\n",
       "      <td>2.280292e+05</td>\n",
       "      <td>0.566800</td>\n",
       "      <td>0.641383</td>\n",
       "      <td>5.309140</td>\n",
       "      <td>-8.258960</td>\n",
       "      <td>0.637553</td>\n",
       "      <td>0.084652</td>\n",
       "      <td>0.314910</td>\n",
       "      <td>0.156050</td>\n",
       "      <td>0.213553</td>\n",
       "      <td>0.474068</td>\n",
       "      <td>122.147837</td>\n",
       "      <td>3.904035</td>\n",
       "    </tr>\n",
       "    <tr>\n",
       "      <th>std</th>\n",
       "      <td>22.305078</td>\n",
       "      <td>1.072977e+05</td>\n",
       "      <td>0.173542</td>\n",
       "      <td>0.251529</td>\n",
       "      <td>3.559987</td>\n",
       "      <td>5.029337</td>\n",
       "      <td>0.480709</td>\n",
       "      <td>0.105732</td>\n",
       "      <td>0.332523</td>\n",
       "      <td>0.309555</td>\n",
       "      <td>0.190378</td>\n",
       "      <td>0.259261</td>\n",
       "      <td>29.978197</td>\n",
       "      <td>0.432621</td>\n",
       "    </tr>\n",
       "    <tr>\n",
       "      <th>min</th>\n",
       "      <td>0.000000</td>\n",
       "      <td>0.000000e+00</td>\n",
       "      <td>0.000000</td>\n",
       "      <td>0.000000</td>\n",
       "      <td>0.000000</td>\n",
       "      <td>-49.531000</td>\n",
       "      <td>0.000000</td>\n",
       "      <td>0.000000</td>\n",
       "      <td>0.000000</td>\n",
       "      <td>0.000000</td>\n",
       "      <td>0.000000</td>\n",
       "      <td>0.000000</td>\n",
       "      <td>0.000000</td>\n",
       "      <td>0.000000</td>\n",
       "    </tr>\n",
       "    <tr>\n",
       "      <th>25%</th>\n",
       "      <td>17.000000</td>\n",
       "      <td>1.740660e+05</td>\n",
       "      <td>0.456000</td>\n",
       "      <td>0.472000</td>\n",
       "      <td>2.000000</td>\n",
       "      <td>-10.013000</td>\n",
       "      <td>0.000000</td>\n",
       "      <td>0.035900</td>\n",
       "      <td>0.016900</td>\n",
       "      <td>0.000000</td>\n",
       "      <td>0.098000</td>\n",
       "      <td>0.260000</td>\n",
       "      <td>99.218750</td>\n",
       "      <td>4.000000</td>\n",
       "    </tr>\n",
       "    <tr>\n",
       "      <th>50%</th>\n",
       "      <td>35.000000</td>\n",
       "      <td>2.129060e+05</td>\n",
       "      <td>0.580000</td>\n",
       "      <td>0.685000</td>\n",
       "      <td>5.000000</td>\n",
       "      <td>-7.004000</td>\n",
       "      <td>1.000000</td>\n",
       "      <td>0.048900</td>\n",
       "      <td>0.169000</td>\n",
       "      <td>0.000042</td>\n",
       "      <td>0.132000</td>\n",
       "      <td>0.464000</td>\n",
       "      <td>122.017000</td>\n",
       "      <td>4.000000</td>\n",
       "    </tr>\n",
       "    <tr>\n",
       "      <th>75%</th>\n",
       "      <td>50.000000</td>\n",
       "      <td>2.615060e+05</td>\n",
       "      <td>0.695000</td>\n",
       "      <td>0.854000</td>\n",
       "      <td>8.000000</td>\n",
       "      <td>-5.003000</td>\n",
       "      <td>1.000000</td>\n",
       "      <td>0.084500</td>\n",
       "      <td>0.598000</td>\n",
       "      <td>0.049000</td>\n",
       "      <td>0.273000</td>\n",
       "      <td>0.683000</td>\n",
       "      <td>140.071000</td>\n",
       "      <td>4.000000</td>\n",
       "    </tr>\n",
       "    <tr>\n",
       "      <th>max</th>\n",
       "      <td>100.000000</td>\n",
       "      <td>5.237295e+06</td>\n",
       "      <td>0.985000</td>\n",
       "      <td>1.000000</td>\n",
       "      <td>11.000000</td>\n",
       "      <td>4.532000</td>\n",
       "      <td>1.000000</td>\n",
       "      <td>0.965000</td>\n",
       "      <td>0.996000</td>\n",
       "      <td>1.000000</td>\n",
       "      <td>1.000000</td>\n",
       "      <td>0.995000</td>\n",
       "      <td>243.372000</td>\n",
       "      <td>5.000000</td>\n",
       "    </tr>\n",
       "  </tbody>\n",
       "</table>\n",
       "</div>"
      ],
      "text/plain": [
       "          popularity   duration_ms   danceability         energy  \\\n",
       "count  114000.000000  1.140000e+05  114000.000000  114000.000000   \n",
       "mean       33.238535  2.280292e+05       0.566800       0.641383   \n",
       "std        22.305078  1.072977e+05       0.173542       0.251529   \n",
       "min         0.000000  0.000000e+00       0.000000       0.000000   \n",
       "25%        17.000000  1.740660e+05       0.456000       0.472000   \n",
       "50%        35.000000  2.129060e+05       0.580000       0.685000   \n",
       "75%        50.000000  2.615060e+05       0.695000       0.854000   \n",
       "max       100.000000  5.237295e+06       0.985000       1.000000   \n",
       "\n",
       "                 key       loudness           mode    speechiness  \\\n",
       "count  114000.000000  114000.000000  114000.000000  114000.000000   \n",
       "mean        5.309140      -8.258960       0.637553       0.084652   \n",
       "std         3.559987       5.029337       0.480709       0.105732   \n",
       "min         0.000000     -49.531000       0.000000       0.000000   \n",
       "25%         2.000000     -10.013000       0.000000       0.035900   \n",
       "50%         5.000000      -7.004000       1.000000       0.048900   \n",
       "75%         8.000000      -5.003000       1.000000       0.084500   \n",
       "max        11.000000       4.532000       1.000000       0.965000   \n",
       "\n",
       "        acousticness  instrumentalness       liveness        valence  \\\n",
       "count  114000.000000     114000.000000  114000.000000  114000.000000   \n",
       "mean        0.314910          0.156050       0.213553       0.474068   \n",
       "std         0.332523          0.309555       0.190378       0.259261   \n",
       "min         0.000000          0.000000       0.000000       0.000000   \n",
       "25%         0.016900          0.000000       0.098000       0.260000   \n",
       "50%         0.169000          0.000042       0.132000       0.464000   \n",
       "75%         0.598000          0.049000       0.273000       0.683000   \n",
       "max         0.996000          1.000000       1.000000       0.995000   \n",
       "\n",
       "               tempo  time_signature  \n",
       "count  114000.000000   114000.000000  \n",
       "mean      122.147837        3.904035  \n",
       "std        29.978197        0.432621  \n",
       "min         0.000000        0.000000  \n",
       "25%        99.218750        4.000000  \n",
       "50%       122.017000        4.000000  \n",
       "75%       140.071000        4.000000  \n",
       "max       243.372000        5.000000  "
      ]
     },
     "execution_count": 24,
     "metadata": {},
     "output_type": "execute_result"
    }
   ],
   "source": [
    "df.describe()"
   ]
  },
  {
   "cell_type": "markdown",
   "id": "1e0fd661",
   "metadata": {},
   "source": [
    "Nessa primeira análise, percebemos que quase não há dados nulos no dataset, que apresenta 114.000 linhas, onde 89.741 são músicas que aparecerem uma vez, 114 gêneros musicais e o artista que mais aparece é uma banda, The Beatles. \n",
    "\n",
    "Em algumas colunas, como `artists`, `album_name` e `track_name`, há dados faltantes e, como são poucos, podemos excluí-los sem que afete significantemente nossos dados. Mais para a frente, no pré-processamento, farei isso."
   ]
  },
  {
   "cell_type": "code",
   "execution_count": 25,
   "id": "3d2ab977",
   "metadata": {},
   "outputs": [
    {
     "name": "stdout",
     "output_type": "stream",
     "text": [
      "Antes:\t (114000, 20)\n",
      "Depois:\t (113550, 20)\n"
     ]
    }
   ],
   "source": [
    "shape_antes = df.shape\n",
    "print(\"Antes:\\t\", shape_antes)\n",
    "\n",
    "df = df[~df.duplicated()==1]\n",
    "\n",
    "shape_depois = df.shape\n",
    "print(\"Depois:\\t\", shape_depois)"
   ]
  },
  {
   "cell_type": "markdown",
   "id": "c5e23ef2",
   "metadata": {},
   "source": [
    "### Popularidade"
   ]
  },
  {
   "cell_type": "code",
   "execution_count": 26,
   "id": "bb8f54a2",
   "metadata": {},
   "outputs": [],
   "source": [
    "top_100 = df.nlargest(100, 'popularity')\n",
    "track_names = top_100['track_name']\n",
    "popularity_values = top_100['popularity']"
   ]
  },
  {
   "cell_type": "code",
   "execution_count": 27,
   "id": "e93b1f58",
   "metadata": {
    "scrolled": false
   },
   "outputs": [
    {
     "data": {
      "image/png": "[encoded data removed]",
      "text/plain": [
       "<Figure size 864x1224 with 1 Axes>"
      ]
     },
     "metadata": {
      "needs_background": "light"
     },
     "output_type": "display_data"
    }
   ],
   "source": [
    "plt.figure(figsize=(12, 17))  # Define tamanho da figura\n",
    "\n",
    "# Define estilo dos ticks do eixo x para evitar sobreposição\n",
    "plt.xticks(rotation=90)\n",
    "\n",
    "plt.barh(track_names, popularity_values)\n",
    "\n",
    "plt.gca().invert_yaxis()  # Inverte a ordem das músicas no eixo Y\n",
    "plt.title('As 100 músicas mais populares')\n",
    "\n",
    "plt.grid(False)\n",
    "plt.tight_layout()  # Ajusta espaçamento\n",
    "plt.show() "
   ]
  },
  {
   "cell_type": "code",
   "execution_count": 28,
   "id": "53c44a1e",
   "metadata": {},
   "outputs": [
    {
     "data": {
      "text/plain": [
       "31437"
      ]
     },
     "execution_count": 28,
     "metadata": {},
     "output_type": "execute_result"
    }
   ],
   "source": [
    "df['artists'].nunique()"
   ]
  },
  {
   "cell_type": "code",
   "execution_count": 29,
   "id": "16a8ef7b",
   "metadata": {
    "scrolled": false
   },
   "outputs": [
    {
     "data": {
      "image/png": "[encoded data removed]",
      "text/plain": [
       "<Figure size 1296x576 with 1 Axes>"
      ]
     },
     "metadata": {
      "needs_background": "light"
     },
     "output_type": "display_data"
    }
   ],
   "source": [
    "plt.figure(figsize=(18,8))\n",
    "sns.countplot(x=genero, order=genero.value_counts().index[:-1])\n",
    "plt.title('Gêneros musicais mais populares', fontsize=14)\n",
    "\n",
    "# Adicionar o número de ocorrências em cima de cada barra\n",
    "for index, value in enumerate(genero.value_counts().sort_values(ascending=False)):\n",
    "    plt.annotate(str(value), xy=(index, value), ha='center', va='bottom')\n",
    "\n",
    "plt.show()"
   ]
  },
  {
   "cell_type": "code",
   "execution_count": 30,
   "id": "4174e0d4",
   "metadata": {},
   "outputs": [],
   "source": [
    "# artistas com mais de 100 tracks no dataset\n",
    "df['popular_artist'] = df['artists'].map(df['artists'].value_counts()>100)\n",
    "pop_arts  = df.groupby(['artists', 'popular_artist'])['popularity'].mean().sort_values(ascending=False).reset_index(1)\n",
    "df_pop_arts = pop_arts.loc[pop_arts['popular_artist'] == True,['popularity']]"
   ]
  },
  {
   "cell_type": "code",
   "execution_count": 31,
   "id": "06bcdcc3",
   "metadata": {},
   "outputs": [
    {
     "data": {
      "image/png": "[encoded data removed]",
      "text/plain": [
       "<Figure size 864x720 with 1 Axes>"
      ]
     },
     "metadata": {
      "needs_background": "light"
     },
     "output_type": "display_data"
    }
   ],
   "source": [
    "fig, ax = plt.subplots(figsize = (12, 10))\n",
    "lead_artists = df_pop_arts.groupby('artists')['popularity'].mean().sort_values(ascending=False).head(20)\n",
    "ax = sns.barplot(x=lead_artists.values, y=lead_artists.index, palette=\"Greens\", orient=\"h\", edgecolor='black', ax=ax)\n",
    "ax.set_xlabel('Media de Popularidade', c='r', fontsize=12)\n",
    "ax.set_ylabel('Artista', c='r', fontsize=12)\n",
    "ax.set_title('Os 20 artistas mais populares no dataset', c='r', fontsize=14, weight = 'bold')\n",
    "    \n",
    "plt.show()"
   ]
  },
  {
   "cell_type": "markdown",
   "id": "9b8d3d2a",
   "metadata": {},
   "source": [
    "**Algumas conclusões**:\n",
    "1) Unholy do Sam Smith com a Kim Petras é a música mais popular do dataset, com 100. \n",
    "\n",
    "2) One Kiss, do Calvin Harrs e Dua Lipa, é o centésimo mais popular, com 89. \n",
    "\n",
    "3) O gênero musical mais popular é o pop, com 24 ocorrências dentro do top 100 músicas mais populares.\n",
    "\n",
    "4) BTS é o mais popular do dataset, seguido de The Beatles.\n",
    "\n",
    "Além disso, existem 31.437 artistas diferentes nessa feature."
   ]
  },
  {
   "cell_type": "markdown",
   "id": "36db8f8a",
   "metadata": {},
   "source": [
    "### Análise de correlação"
   ]
  },
  {
   "cell_type": "markdown",
   "id": "64c6ff6e",
   "metadata": {},
   "source": [
    "#### Músicas explícitas\n",
    "\n",
    "Verei aqui o quanto essa feature afeta na popularidade."
   ]
  },
  {
   "cell_type": "code",
   "execution_count": 33,
   "id": "f9b924f5",
   "metadata": {},
   "outputs": [
    {
     "data": {
      "text/plain": [
       "False    103832\n",
       "True       9718\n",
       "Name: explicit, dtype: int64"
      ]
     },
     "execution_count": 33,
     "metadata": {},
     "output_type": "execute_result"
    }
   ],
   "source": [
    "contagem = df['explicit'].value_counts()\n",
    "contagem"
   ]
  },
  {
   "cell_type": "code",
   "execution_count": 34,
   "id": "86ef7041",
   "metadata": {},
   "outputs": [
    {
     "data": {
      "text/plain": [
       "False    91.441656\n",
       "True      8.558344\n",
       "Name: explicit, dtype: float64"
      ]
     },
     "execution_count": 34,
     "metadata": {},
     "output_type": "execute_result"
    }
   ],
   "source": [
    "total = contagem.sum()\n",
    "porcentagem = contagem / total * 100\n",
    "porcentagem"
   ]
  },
  {
   "cell_type": "code",
   "execution_count": 35,
   "id": "d617ea28",
   "metadata": {},
   "outputs": [
    {
     "data": {
      "image/png": "[encoded data removed]",
      "text/plain": [
       "<Figure size 1080x360 with 1 Axes>"
      ]
     },
     "metadata": {
      "needs_background": "light"
     },
     "output_type": "display_data"
    }
   ],
   "source": [
    "fig, ax = plt.subplots(figsize = (15, 5))\n",
    "y_ticks = ['No Explicit\\nContent', 'Explicit\\nContent']\n",
    "ax = sns.barplot(x = (df['explicit'].value_counts(normalize=True)*100),\n",
    "                 y= y_ticks, \n",
    "                 data=df, palette='Spectral')\n",
    "ax.set_xlabel('% de ocorrências', fontsize=12, weight='bold')\n",
    "ax.set_xlim(0.0,100.0)\n",
    "ax.set_xticks(ticks=range(0,101,10))\n",
    "ax.set_yticklabels(labels=y_ticks, fontsize=12)\n",
    "ax.text(s='91.44%\\n(103.832)', x=1, y=0.1, fontdict={'weight': 'bold'})\n",
    "ax.text(s='8.55%\\n(9.718)', x=1, y=1.1, fontdict={'weight': 'bold'})\n",
    "\n",
    "plt.suptitle('Ocorrência Explicit', fontsize=14, c='r')\n",
    "\n",
    "plt.show()"
   ]
  },
  {
   "cell_type": "code",
   "execution_count": 36,
   "id": "20c6d85b",
   "metadata": {},
   "outputs": [
    {
     "data": {
      "image/png": "[encoded data removed]",
      "text/plain": [
       "<Figure size 432x432 with 1 Axes>"
      ]
     },
     "metadata": {
      "needs_background": "light"
     },
     "output_type": "display_data"
    }
   ],
   "source": [
    "exp_data = sns.catplot(data=df, kind=\"bar\",\n",
    "                        x=\"explicit\", y=\"popularity\",\n",
    "                        ci=\"sd\", palette='Accent',\n",
    "                        height=6)\n",
    "exp_data.fig.suptitle('Popularity vs. Explicit', y=1.05, c='r')\n",
    "exp_data.set_axis_labels(\"\", \"Popularity\")\n",
    "exp_data.set_xticklabels(['No Explicit\\nContent', 'Explicit\\nContent'])\n",
    "plt.show()"
   ]
  },
  {
   "cell_type": "markdown",
   "id": "3d14083a",
   "metadata": {},
   "source": [
    "#### Feature Key\n",
    "\n",
    "Vendo a correlação dessa feature com o campo de popularidade."
   ]
  },
  {
   "cell_type": "code",
   "execution_count": 37,
   "id": "1402ce5c",
   "metadata": {},
   "outputs": [
    {
     "data": {
      "image/png": "[encoded data removed]",
      "text/plain": [
       "<Figure size 1080x360 with 1 Axes>"
      ]
     },
     "metadata": {
      "needs_background": "light"
     },
     "output_type": "display_data"
    }
   ],
   "source": [
    "fig, ax = plt.subplots(figsize = (15, 5))\n",
    "key_data = df['key'].value_counts(normalize=True, sort=True, ascending=True)*100\n",
    "y_ticks = df['key'].value_counts().index\n",
    "ax = sns.barplot(x = key_data.values, y= y_ticks, data = key_data, orient='h', palette='Spectral')\n",
    "ax.set_xlabel('% de registros', fontsize=12, weight='bold')\n",
    "ax.set_ylabel('Key', fontsize=12, weight='bold')\n",
    "ax.set_xlim(0.0,15.0, 0)\n",
    "ax.set_xticks(ticks=range(0,16,1))\n",
    "ax.set_yticklabels(labels=y_ticks, fontsize=12) #\n",
    "\n",
    "rects = ax.patches\n",
    "\n",
    "# adiciona rótulos para o gráfico de barras\n",
    "for rect in rects:\n",
    "    # Obtem o posicionamento X e Y do rótulo a partir da barra.\n",
    "    x_value = rect.get_width() \n",
    "    y_value = rect.get_y() + rect.get_height() / 2\n",
    "    # Número de pontos entre a barra e o rótulo.\n",
    "    space = 5\n",
    "    # Alinhamento vertical para valores positivos\n",
    "    ha = 'left'\n",
    "\n",
    "    # Usa o valor X como rótulo e formata o número com uma casa decimal\n",
    "    label = f'{x_value:.1f}'\n",
    "\n",
    "    # Cria a anotação\n",
    "    plt.annotate(\n",
    "        label,                      # Usa `label` como rótulo\n",
    "        (x_value, y_value),         # Coloca o rótulo no final da barra\n",
    "        xytext=(space, 0),          # Desloca horizontalmente o rótulo por `space`\n",
    "        textcoords=\"offset points\", # Interpreta `xytext` como deslocamento em pontos\n",
    "        va='center',                # Centraliza verticalmente o rótulo\n",
    "        ha=ha)                      # Alinha horizontalmente o rótulo de forma diferente para\n",
    "                                    # valores positivos e negativos.\n",
    "\n",
    "plt.suptitle('Distribuição da Chave (%)', fontsize=14)\n",
    "plt.show()"
   ]
  },
  {
   "cell_type": "code",
   "execution_count": 38,
   "id": "ce108096",
   "metadata": {},
   "outputs": [
    {
     "data": {
      "image/png": "[encoded data removed]",
      "text/plain": [
       "<Figure size 1080x360 with 1 Axes>"
      ]
     },
     "metadata": {
      "needs_background": "light"
     },
     "output_type": "display_data"
    }
   ],
   "source": [
    "exp_data = sns.catplot(data=df, kind=\"bar\",\n",
    "                        x=\"key\", y=\"popularity\",\n",
    "                        palette='pastel',\n",
    "                        ci = 'sd',\n",
    "                        height=5, aspect = 3)\n",
    "exp_data.fig.suptitle('Popularidade por cada Key Category', y=1.05, weight='bold')\n",
    "exp_data.set_axis_labels(\"key\", \"Popularity\")\n",
    "plt.show()"
   ]
  },
  {
   "cell_type": "markdown",
   "id": "4930efd9",
   "metadata": {},
   "source": [
    "* Os 12 valores das chaves estão distribuídos entre 3% e 12% cada uma\n",
    "\n",
    "* Não aparenta ter alguma correlação com popularidade"
   ]
  },
  {
   "cell_type": "markdown",
   "id": "aa14aee9",
   "metadata": {},
   "source": [
    "#### Acousticness"
   ]
  },
  {
   "cell_type": "code",
   "execution_count": 39,
   "id": "8a9986d4",
   "metadata": {},
   "outputs": [
    {
     "data": {
      "image/png": "[encoded data removed]",
      "text/plain": [
       "<Figure size 1152x288 with 1 Axes>"
      ]
     },
     "metadata": {
      "needs_background": "light"
     },
     "output_type": "display_data"
    }
   ],
   "source": [
    "fig, ax = plt.subplots(figsize=(16, 4))\n",
    "sns.distplot(df['acousticness'], kde=False, bins=30)\n",
    "plt.show()"
   ]
  },
  {
   "cell_type": "code",
   "execution_count": 40,
   "id": "9efe0013",
   "metadata": {},
   "outputs": [
    {
     "data": {
      "image/png": "[encoded data removed]",
      "text/plain": [
       "<Figure size 1080x432 with 1 Axes>"
      ]
     },
     "metadata": {
      "needs_background": "light"
     },
     "output_type": "display_data"
    }
   ],
   "source": [
    "fig, ax = plt.subplots(figsize=(15, 6))\n",
    "ax1_data =  df.groupby('acousticness')['popularity'].mean().to_frame().reset_index()\n",
    "ax = sns.scatterplot(x = ax1_data['acousticness'], y = ax1_data['popularity'], color='blue', ax=ax)\n",
    "ax.set_title('Acousticness vs. Mean Popularity')\n",
    "ax.set_ylabel('Mean Popularity', fontsize=12)\n",
    "plt.tight_layout()\n",
    "plt.show()"
   ]
  },
  {
   "cell_type": "markdown",
   "id": "83b3d3bc",
   "metadata": {},
   "source": [
    "Grande maioria das faixas então no 0 (não-acústicas), inclusive as mais populares encontram-se com esse valor."
   ]
  },
  {
   "cell_type": "markdown",
   "id": "5363ba64",
   "metadata": {},
   "source": [
    "#### Matriz de correlação"
   ]
  },
  {
   "cell_type": "code",
   "execution_count": 41,
   "id": "86802241",
   "metadata": {},
   "outputs": [
    {
     "name": "stdout",
     "output_type": "stream",
     "text": [
      "<class 'pandas.core.frame.DataFrame'>\n",
      "Int64Index: 113550 entries, 0 to 113999\n",
      "Data columns (total 21 columns):\n",
      " #   Column            Non-Null Count   Dtype  \n",
      "---  ------            --------------   -----  \n",
      " 0   track_id          113550 non-null  object \n",
      " 1   artists           113549 non-null  object \n",
      " 2   album_name        113549 non-null  object \n",
      " 3   track_name        113549 non-null  object \n",
      " 4   popularity        113550 non-null  int64  \n",
      " 5   duration_ms       113550 non-null  int64  \n",
      " 6   explicit          113550 non-null  bool   \n",
      " 7   danceability      113550 non-null  float64\n",
      " 8   energy            113550 non-null  float64\n",
      " 9   key               113550 non-null  int64  \n",
      " 10  loudness          113550 non-null  float64\n",
      " 11  mode              113550 non-null  int64  \n",
      " 12  speechiness       113550 non-null  float64\n",
      " 13  acousticness      113550 non-null  float64\n",
      " 14  instrumentalness  113550 non-null  float64\n",
      " 15  liveness          113550 non-null  float64\n",
      " 16  valence           113550 non-null  float64\n",
      " 17  tempo             113550 non-null  float64\n",
      " 18  time_signature    113550 non-null  int64  \n",
      " 19  track_genre       113550 non-null  object \n",
      " 20  popular_artist    113549 non-null  object \n",
      "dtypes: bool(1), float64(9), int64(5), object(6)\n",
      "memory usage: 18.3+ MB\n"
     ]
    }
   ],
   "source": [
    "df.info()"
   ]
  },
  {
   "cell_type": "code",
   "execution_count": 44,
   "id": "db8262c6",
   "metadata": {},
   "outputs": [],
   "source": [
    "# Seleciona apenas as colunas numéricas\n",
    "df_numeric = df.select_dtypes(include=['int64', 'float64'])"
   ]
  },
  {
   "cell_type": "code",
   "execution_count": 45,
   "id": "32fc3fe0",
   "metadata": {},
   "outputs": [],
   "source": [
    "# Calcula a matriz de correlação\n",
    "correlation_matrix = df_numeric.corr()"
   ]
  },
  {
   "cell_type": "code",
   "execution_count": 46,
   "id": "bce1c76d",
   "metadata": {},
   "outputs": [
    {
     "data": {
      "image/png": "[encoded data removed]",
      "text/plain": [
       "<Figure size 720x576 with 2 Axes>"
      ]
     },
     "metadata": {
      "needs_background": "light"
     },
     "output_type": "display_data"
    }
   ],
   "source": [
    "# Plota um heatmap da matriz de correlação\n",
    "plt.figure(figsize=(10, 8))\n",
    "sns.heatmap(correlation_matrix, annot=True, cmap='coolwarm')\n",
    "plt.title('Matriz de Correlação')\n",
    "plt.show()"
   ]
  },
  {
   "cell_type": "markdown",
   "id": "5499c8ee",
   "metadata": {},
   "source": [
    "Com base na matriz de correlação plotada, não parece haver relação entre as colunas numéricas e a coluna de popularidade, mostrando não haver um padrão exato. \n",
    "\n",
    "No resto, correlações expressivas podem ser notadas entre as colunas \"danceability\" e \"valance\" e \"energy\" e \"loudness\"."
   ]
  },
  {
   "cell_type": "markdown",
   "id": "dcc596bc",
   "metadata": {},
   "source": [
    "### Visualização de distribuição"
   ]
  },
  {
   "cell_type": "code",
   "execution_count": 47,
   "id": "60dbef51",
   "metadata": {},
   "outputs": [],
   "source": [
    "df_numerico = df.select_dtypes(include='number')"
   ]
  },
  {
   "cell_type": "code",
   "execution_count": 48,
   "id": "184f313a",
   "metadata": {},
   "outputs": [
    {
     "data": {
      "image/png": "[encoded data removed]",
      "text/plain": [
       "<Figure size 864x720 with 16 Axes>"
      ]
     },
     "metadata": {
      "needs_background": "light"
     },
     "output_type": "display_data"
    }
   ],
   "source": [
    "df_numerico.hist(figsize=(12, 10), bins=20)\n",
    "plt.tight_layout()\n",
    "plt.show()"
   ]
  },
  {
   "cell_type": "markdown",
   "id": "ad107aad",
   "metadata": {},
   "source": [
    "Nos histogramas plotados, podemos tirar algumas conclusões. \n",
    "\n",
    "1. Em \"popularity\", a maioria das músicas encontra-se entre 0-50, ou seja, com baixa popularidade. \n",
    "2. Em \"danceability, maioria encontra-se mais à direita do gráfico, mostrando que a maioria das faixas no dataset são dançáveis.\n",
    "3. Em \"energy\", bastante músicas apresentam-se bem enérgicas.\n",
    "4. Boa parte das músicas parecem estar abaixo de 0.25 em \"speechiness\"."
   ]
  },
  {
   "cell_type": "markdown",
   "id": "eea75ba5",
   "metadata": {},
   "source": [
    "### Características musicais"
   ]
  },
  {
   "cell_type": "code",
   "execution_count": 49,
   "id": "f5dfae9c",
   "metadata": {},
   "outputs": [],
   "source": [
    "genre_counts = df['track_genre'].value_counts()"
   ]
  },
  {
   "cell_type": "code",
   "execution_count": 50,
   "id": "e9dff5ec",
   "metadata": {},
   "outputs": [],
   "source": [
    "top_genres = genre_counts.head(15).index.tolist()\n",
    "\n",
    "df_top_genres = df[df['track_genre'].isin(top_genres)]"
   ]
  },
  {
   "cell_type": "code",
   "execution_count": 51,
   "id": "89655bb4",
   "metadata": {},
   "outputs": [
    {
     "data": {
      "image/png": "[encoded data removed]",
      "text/plain": [
       "<Figure size 864x432 with 1 Axes>"
      ]
     },
     "metadata": {
      "needs_background": "light"
     },
     "output_type": "display_data"
    }
   ],
   "source": [
    "# Gráfico de barras\n",
    "plt.figure(figsize=(12, 6))\n",
    "sns.barplot(data=df_top_genres, x='track_genre', y='danceability', palette='coolwarm', ci=None)\n",
    "plt.title('Danceability dos Top 10 Gêneros')\n",
    "plt.ylabel('Danceability')\n",
    "plt.xlabel('Gênero')\n",
    "plt.xticks(rotation=45)\n",
    "plt.show()"
   ]
  },
  {
   "cell_type": "code",
   "execution_count": 52,
   "id": "b47b97d1",
   "metadata": {},
   "outputs": [
    {
     "data": {
      "image/png": "[encoded data removed]",
      "text/plain": [
       "<Figure size 864x432 with 1 Axes>"
      ]
     },
     "metadata": {
      "needs_background": "light"
     },
     "output_type": "display_data"
    }
   ],
   "source": [
    "# Gráfico de boxplots\n",
    "plt.figure(figsize=(12, 6))\n",
    "sns.boxplot(data=df_top_genres, x='track_genre', y='energy', palette='coolwarm')\n",
    "plt.title('Energia por Gênero')\n",
    "plt.ylabel('Energia')\n",
    "plt.xlabel('Gênero')\n",
    "plt.xticks(rotation=45)\n",
    "plt.show()"
   ]
  },
  {
   "cell_type": "code",
   "execution_count": 53,
   "id": "47bbb06c",
   "metadata": {},
   "outputs": [],
   "source": [
    "top_1000 = df.nlargest(1000, 'popularity')\n",
    "\n",
    "# Converte duração de milissegundos para minutos\n",
    "top_1000['duration_min'] = top_1000['duration_ms'] / 60000\n",
    "\n",
    "# Calcula a correlação entre popularidade e duração das músicas\n",
    "correlation = top_1000['popularity'].corr(top_1000['duration_min'])"
   ]
  },
  {
   "cell_type": "code",
   "execution_count": 54,
   "id": "68f56868",
   "metadata": {},
   "outputs": [
    {
     "data": {
      "image/png": "[encoded data removed]",
      "text/plain": [
       "<Figure size 576x432 with 1 Axes>"
      ]
     },
     "metadata": {
      "needs_background": "light"
     },
     "output_type": "display_data"
    }
   ],
   "source": [
    "plt.figure(figsize=(8, 6))\n",
    "sns.scatterplot(data=top_1000, x='duration_min', y='popularity', alpha=0.5)\n",
    "plt.title('Relação entre Popularidade e Duração')\n",
    "plt.xlabel('Duração (minutos)')\n",
    "plt.ylabel('Popularidade')\n",
    "plt.text(0.05, 0.95, f'Correlação: {correlation:.2f}', transform=plt.gca().transAxes)\n",
    "plt.show()"
   ]
  },
  {
   "cell_type": "markdown",
   "id": "49b90f9a",
   "metadata": {},
   "source": [
    "Com o top 15 gêneros que mais aparecem no dataset, verifiquei aqui algumas características como o quão dançável e energético é um gênero musical. O heavy e black metal se apresentam os mais energéticos, enquanto o sleet e ambient tem uma média de energia menor (meio óbvio, né).\n",
    "\n",
    "Além disso, plotei um gráfico de dispersão que mostra a relação entre a popularidade das músicas e a sua duração, em minutos. As músicas mais populares ficam entre dois minutos e meio até 4 minutos e meio."
   ]
  },
  {
   "cell_type": "markdown",
   "id": "68e775a3",
   "metadata": {},
   "source": [
    "## Pré-processamento\n",
    "\n",
    "Nessa etapa vamos preparar os dados para a construção do modelo.\n",
    "\n",
    "Nisso, algumas medidas serão tomadas, como:\n",
    "\n",
    "1) Coluna de popularidade precisará sofrer uma alteração para a construção do modelo. Como quero saber quando uma música tende a ser popular ou não, e considerando que a coluna de popularidade varia de 0 a 100, irei definir um ponto de corte a partir da nota 80. Valores iguais ou maiores a esse ponto terão atribuição igual a 1, enquanto valores abaixo receberão atribuição igual a 0.\n",
    "\n",
    "2) Remoção de valores nulos.\n",
    "\n",
    "3) Manter dados quantitativos.\n",
    "\n",
    "4) Deixar os dados na mesma escala.\n",
    "\n",
    "Obs: Como os dados duplicados foram tratados para a análise dos dados, não há necessidade de tratar isso aqui uma vez que já foi resolvido."
   ]
  },
  {
   "cell_type": "code",
   "execution_count": 55,
   "id": "dbc889e7",
   "metadata": {},
   "outputs": [
    {
     "data": {
      "text/html": [
       "<div>\n",
       "<style scoped>\n",
       "    .dataframe tbody tr th:only-of-type {\n",
       "        vertical-align: middle;\n",
       "    }\n",
       "\n",
       "    .dataframe tbody tr th {\n",
       "        vertical-align: top;\n",
       "    }\n",
       "\n",
       "    .dataframe thead th {\n",
       "        text-align: right;\n",
       "    }\n",
       "</style>\n",
       "<table border=\"1\" class=\"dataframe\">\n",
       "  <thead>\n",
       "    <tr style=\"text-align: right;\">\n",
       "      <th></th>\n",
       "      <th>track_id</th>\n",
       "      <th>artists</th>\n",
       "      <th>album_name</th>\n",
       "      <th>track_name</th>\n",
       "      <th>popularity</th>\n",
       "      <th>duration_ms</th>\n",
       "      <th>explicit</th>\n",
       "      <th>danceability</th>\n",
       "      <th>energy</th>\n",
       "      <th>key</th>\n",
       "      <th>...</th>\n",
       "      <th>mode</th>\n",
       "      <th>speechiness</th>\n",
       "      <th>acousticness</th>\n",
       "      <th>instrumentalness</th>\n",
       "      <th>liveness</th>\n",
       "      <th>valence</th>\n",
       "      <th>tempo</th>\n",
       "      <th>time_signature</th>\n",
       "      <th>track_genre</th>\n",
       "      <th>popular_artist</th>\n",
       "    </tr>\n",
       "  </thead>\n",
       "  <tbody>\n",
       "    <tr>\n",
       "      <th>0</th>\n",
       "      <td>5SuOikwiRyPMVoIQDJUgSV</td>\n",
       "      <td>Gen Hoshino</td>\n",
       "      <td>Comedy</td>\n",
       "      <td>Comedy</td>\n",
       "      <td>0</td>\n",
       "      <td>230666</td>\n",
       "      <td>False</td>\n",
       "      <td>0.676</td>\n",
       "      <td>0.4610</td>\n",
       "      <td>1</td>\n",
       "      <td>...</td>\n",
       "      <td>0</td>\n",
       "      <td>0.1430</td>\n",
       "      <td>0.0322</td>\n",
       "      <td>0.000001</td>\n",
       "      <td>0.3580</td>\n",
       "      <td>0.715</td>\n",
       "      <td>87.917</td>\n",
       "      <td>4</td>\n",
       "      <td>acoustic</td>\n",
       "      <td>False</td>\n",
       "    </tr>\n",
       "    <tr>\n",
       "      <th>1</th>\n",
       "      <td>4qPNDBW1i3p13qLCt0Ki3A</td>\n",
       "      <td>Ben Woodward</td>\n",
       "      <td>Ghost (Acoustic)</td>\n",
       "      <td>Ghost - Acoustic</td>\n",
       "      <td>0</td>\n",
       "      <td>149610</td>\n",
       "      <td>False</td>\n",
       "      <td>0.420</td>\n",
       "      <td>0.1660</td>\n",
       "      <td>1</td>\n",
       "      <td>...</td>\n",
       "      <td>1</td>\n",
       "      <td>0.0763</td>\n",
       "      <td>0.9240</td>\n",
       "      <td>0.000006</td>\n",
       "      <td>0.1010</td>\n",
       "      <td>0.267</td>\n",
       "      <td>77.489</td>\n",
       "      <td>4</td>\n",
       "      <td>acoustic</td>\n",
       "      <td>False</td>\n",
       "    </tr>\n",
       "    <tr>\n",
       "      <th>2</th>\n",
       "      <td>1iJBSr7s7jYXzM8EGcbK5b</td>\n",
       "      <td>Ingrid Michaelson;ZAYN</td>\n",
       "      <td>To Begin Again</td>\n",
       "      <td>To Begin Again</td>\n",
       "      <td>0</td>\n",
       "      <td>210826</td>\n",
       "      <td>False</td>\n",
       "      <td>0.438</td>\n",
       "      <td>0.3590</td>\n",
       "      <td>0</td>\n",
       "      <td>...</td>\n",
       "      <td>1</td>\n",
       "      <td>0.0557</td>\n",
       "      <td>0.2100</td>\n",
       "      <td>0.000000</td>\n",
       "      <td>0.1170</td>\n",
       "      <td>0.120</td>\n",
       "      <td>76.332</td>\n",
       "      <td>4</td>\n",
       "      <td>acoustic</td>\n",
       "      <td>False</td>\n",
       "    </tr>\n",
       "    <tr>\n",
       "      <th>3</th>\n",
       "      <td>6lfxq3CG4xtTiEg7opyCyx</td>\n",
       "      <td>Kina Grannis</td>\n",
       "      <td>Crazy Rich Asians (Original Motion Picture Sou...</td>\n",
       "      <td>Can't Help Falling In Love</td>\n",
       "      <td>0</td>\n",
       "      <td>201933</td>\n",
       "      <td>False</td>\n",
       "      <td>0.266</td>\n",
       "      <td>0.0596</td>\n",
       "      <td>0</td>\n",
       "      <td>...</td>\n",
       "      <td>1</td>\n",
       "      <td>0.0363</td>\n",
       "      <td>0.9050</td>\n",
       "      <td>0.000071</td>\n",
       "      <td>0.1320</td>\n",
       "      <td>0.143</td>\n",
       "      <td>181.740</td>\n",
       "      <td>3</td>\n",
       "      <td>acoustic</td>\n",
       "      <td>False</td>\n",
       "    </tr>\n",
       "    <tr>\n",
       "      <th>4</th>\n",
       "      <td>5vjLSffimiIP26QG5WcN2K</td>\n",
       "      <td>Chord Overstreet</td>\n",
       "      <td>Hold On</td>\n",
       "      <td>Hold On</td>\n",
       "      <td>1</td>\n",
       "      <td>198853</td>\n",
       "      <td>False</td>\n",
       "      <td>0.618</td>\n",
       "      <td>0.4430</td>\n",
       "      <td>2</td>\n",
       "      <td>...</td>\n",
       "      <td>1</td>\n",
       "      <td>0.0526</td>\n",
       "      <td>0.4690</td>\n",
       "      <td>0.000000</td>\n",
       "      <td>0.0829</td>\n",
       "      <td>0.167</td>\n",
       "      <td>119.949</td>\n",
       "      <td>4</td>\n",
       "      <td>acoustic</td>\n",
       "      <td>False</td>\n",
       "    </tr>\n",
       "  </tbody>\n",
       "</table>\n",
       "<p>5 rows × 21 columns</p>\n",
       "</div>"
      ],
      "text/plain": [
       "                 track_id                 artists  \\\n",
       "0  5SuOikwiRyPMVoIQDJUgSV             Gen Hoshino   \n",
       "1  4qPNDBW1i3p13qLCt0Ki3A            Ben Woodward   \n",
       "2  1iJBSr7s7jYXzM8EGcbK5b  Ingrid Michaelson;ZAYN   \n",
       "3  6lfxq3CG4xtTiEg7opyCyx            Kina Grannis   \n",
       "4  5vjLSffimiIP26QG5WcN2K        Chord Overstreet   \n",
       "\n",
       "                                          album_name  \\\n",
       "0                                             Comedy   \n",
       "1                                   Ghost (Acoustic)   \n",
       "2                                     To Begin Again   \n",
       "3  Crazy Rich Asians (Original Motion Picture Sou...   \n",
       "4                                            Hold On   \n",
       "\n",
       "                   track_name  popularity  duration_ms  explicit  \\\n",
       "0                      Comedy           0       230666     False   \n",
       "1            Ghost - Acoustic           0       149610     False   \n",
       "2              To Begin Again           0       210826     False   \n",
       "3  Can't Help Falling In Love           0       201933     False   \n",
       "4                     Hold On           1       198853     False   \n",
       "\n",
       "   danceability  energy  key  ...  mode  speechiness  acousticness  \\\n",
       "0         0.676  0.4610    1  ...     0       0.1430        0.0322   \n",
       "1         0.420  0.1660    1  ...     1       0.0763        0.9240   \n",
       "2         0.438  0.3590    0  ...     1       0.0557        0.2100   \n",
       "3         0.266  0.0596    0  ...     1       0.0363        0.9050   \n",
       "4         0.618  0.4430    2  ...     1       0.0526        0.4690   \n",
       "\n",
       "   instrumentalness  liveness  valence    tempo  time_signature  track_genre  \\\n",
       "0          0.000001    0.3580    0.715   87.917               4     acoustic   \n",
       "1          0.000006    0.1010    0.267   77.489               4     acoustic   \n",
       "2          0.000000    0.1170    0.120   76.332               4     acoustic   \n",
       "3          0.000071    0.1320    0.143  181.740               3     acoustic   \n",
       "4          0.000000    0.0829    0.167  119.949               4     acoustic   \n",
       "\n",
       "  popular_artist  \n",
       "0          False  \n",
       "1          False  \n",
       "2          False  \n",
       "3          False  \n",
       "4          False  \n",
       "\n",
       "[5 rows x 21 columns]"
      ]
     },
     "execution_count": 55,
     "metadata": {},
     "output_type": "execute_result"
    }
   ],
   "source": [
    "ponto_corte = 80\n",
    "\n",
    "df['popularity'] = df['popularity'].apply(lambda x: 1 if x >= ponto_corte else 0)\n",
    "\n",
    "df.head()"
   ]
  },
  {
   "cell_type": "code",
   "execution_count": 56,
   "id": "6e80ff00",
   "metadata": {},
   "outputs": [],
   "source": [
    "df = df.dropna(axis=1)"
   ]
  },
  {
   "cell_type": "code",
   "execution_count": 57,
   "id": "65b0103b",
   "metadata": {},
   "outputs": [
    {
     "name": "stdout",
     "output_type": "stream",
     "text": [
      "<class 'pandas.core.frame.DataFrame'>\n",
      "Int64Index: 113550 entries, 0 to 113999\n",
      "Data columns (total 17 columns):\n",
      " #   Column            Non-Null Count   Dtype  \n",
      "---  ------            --------------   -----  \n",
      " 0   track_id          113550 non-null  object \n",
      " 1   popularity        113550 non-null  int64  \n",
      " 2   duration_ms       113550 non-null  int64  \n",
      " 3   explicit          113550 non-null  bool   \n",
      " 4   danceability      113550 non-null  float64\n",
      " 5   energy            113550 non-null  float64\n",
      " 6   key               113550 non-null  int64  \n",
      " 7   loudness          113550 non-null  float64\n",
      " 8   mode              113550 non-null  int64  \n",
      " 9   speechiness       113550 non-null  float64\n",
      " 10  acousticness      113550 non-null  float64\n",
      " 11  instrumentalness  113550 non-null  float64\n",
      " 12  liveness          113550 non-null  float64\n",
      " 13  valence           113550 non-null  float64\n",
      " 14  tempo             113550 non-null  float64\n",
      " 15  time_signature    113550 non-null  int64  \n",
      " 16  track_genre       113550 non-null  object \n",
      "dtypes: bool(1), float64(9), int64(5), object(2)\n",
      "memory usage: 14.8+ MB\n"
     ]
    }
   ],
   "source": [
    "df.info()"
   ]
  },
  {
   "cell_type": "code",
   "execution_count": 58,
   "id": "3ff31aed",
   "metadata": {},
   "outputs": [
    {
     "name": "stdout",
     "output_type": "stream",
     "text": [
      "Tamanho do dataset que vamos trabalhar: (113550, 15)\n"
     ]
    }
   ],
   "source": [
    "# Removendo colunas não quantitativas\n",
    "df_quant = df\n",
    "cols_to_drop = []\n",
    "for column in df:\n",
    "    if df[column].dtype == 'object':\n",
    "        cols_to_drop.append(column)\n",
    "df_quant = df.drop(columns=cols_to_drop)\n",
    "\n",
    "print(f\"Tamanho do dataset que vamos trabalhar: {df_quant.shape}\")"
   ]
  },
  {
   "cell_type": "code",
   "execution_count": 59,
   "id": "75797776",
   "metadata": {},
   "outputs": [
    {
     "name": "stdout",
     "output_type": "stream",
     "text": [
      "<class 'pandas.core.frame.DataFrame'>\n",
      "Int64Index: 113550 entries, 0 to 113999\n",
      "Data columns (total 15 columns):\n",
      " #   Column            Non-Null Count   Dtype  \n",
      "---  ------            --------------   -----  \n",
      " 0   popularity        113550 non-null  int64  \n",
      " 1   duration_ms       113550 non-null  int64  \n",
      " 2   explicit          113550 non-null  bool   \n",
      " 3   danceability      113550 non-null  float64\n",
      " 4   energy            113550 non-null  float64\n",
      " 5   key               113550 non-null  int64  \n",
      " 6   loudness          113550 non-null  float64\n",
      " 7   mode              113550 non-null  int64  \n",
      " 8   speechiness       113550 non-null  float64\n",
      " 9   acousticness      113550 non-null  float64\n",
      " 10  instrumentalness  113550 non-null  float64\n",
      " 11  liveness          113550 non-null  float64\n",
      " 12  valence           113550 non-null  float64\n",
      " 13  tempo             113550 non-null  float64\n",
      " 14  time_signature    113550 non-null  int64  \n",
      "dtypes: bool(1), float64(9), int64(5)\n",
      "memory usage: 13.1 MB\n"
     ]
    }
   ],
   "source": [
    "df_quant.info()"
   ]
  },
  {
   "cell_type": "code",
   "execution_count": 60,
   "id": "7b56e68b",
   "metadata": {},
   "outputs": [
    {
     "data": {
      "text/html": [
       "<div>\n",
       "<style scoped>\n",
       "    .dataframe tbody tr th:only-of-type {\n",
       "        vertical-align: middle;\n",
       "    }\n",
       "\n",
       "    .dataframe tbody tr th {\n",
       "        vertical-align: top;\n",
       "    }\n",
       "\n",
       "    .dataframe thead th {\n",
       "        text-align: right;\n",
       "    }\n",
       "</style>\n",
       "<table border=\"1\" class=\"dataframe\">\n",
       "  <thead>\n",
       "    <tr style=\"text-align: right;\">\n",
       "      <th></th>\n",
       "      <th>popularity</th>\n",
       "      <th>duration_ms</th>\n",
       "      <th>danceability</th>\n",
       "      <th>energy</th>\n",
       "      <th>key</th>\n",
       "      <th>loudness</th>\n",
       "      <th>mode</th>\n",
       "      <th>speechiness</th>\n",
       "      <th>acousticness</th>\n",
       "      <th>instrumentalness</th>\n",
       "      <th>liveness</th>\n",
       "      <th>valence</th>\n",
       "      <th>tempo</th>\n",
       "      <th>time_signature</th>\n",
       "    </tr>\n",
       "  </thead>\n",
       "  <tbody>\n",
       "    <tr>\n",
       "      <th>0</th>\n",
       "      <td>0</td>\n",
       "      <td>230666</td>\n",
       "      <td>0.676</td>\n",
       "      <td>0.4610</td>\n",
       "      <td>1</td>\n",
       "      <td>-6.746</td>\n",
       "      <td>0</td>\n",
       "      <td>0.1430</td>\n",
       "      <td>0.0322</td>\n",
       "      <td>0.000001</td>\n",
       "      <td>0.3580</td>\n",
       "      <td>0.715</td>\n",
       "      <td>87.917</td>\n",
       "      <td>4</td>\n",
       "    </tr>\n",
       "    <tr>\n",
       "      <th>1</th>\n",
       "      <td>0</td>\n",
       "      <td>149610</td>\n",
       "      <td>0.420</td>\n",
       "      <td>0.1660</td>\n",
       "      <td>1</td>\n",
       "      <td>-17.235</td>\n",
       "      <td>1</td>\n",
       "      <td>0.0763</td>\n",
       "      <td>0.9240</td>\n",
       "      <td>0.000006</td>\n",
       "      <td>0.1010</td>\n",
       "      <td>0.267</td>\n",
       "      <td>77.489</td>\n",
       "      <td>4</td>\n",
       "    </tr>\n",
       "    <tr>\n",
       "      <th>2</th>\n",
       "      <td>0</td>\n",
       "      <td>210826</td>\n",
       "      <td>0.438</td>\n",
       "      <td>0.3590</td>\n",
       "      <td>0</td>\n",
       "      <td>-9.734</td>\n",
       "      <td>1</td>\n",
       "      <td>0.0557</td>\n",
       "      <td>0.2100</td>\n",
       "      <td>0.000000</td>\n",
       "      <td>0.1170</td>\n",
       "      <td>0.120</td>\n",
       "      <td>76.332</td>\n",
       "      <td>4</td>\n",
       "    </tr>\n",
       "    <tr>\n",
       "      <th>3</th>\n",
       "      <td>0</td>\n",
       "      <td>201933</td>\n",
       "      <td>0.266</td>\n",
       "      <td>0.0596</td>\n",
       "      <td>0</td>\n",
       "      <td>-18.515</td>\n",
       "      <td>1</td>\n",
       "      <td>0.0363</td>\n",
       "      <td>0.9050</td>\n",
       "      <td>0.000071</td>\n",
       "      <td>0.1320</td>\n",
       "      <td>0.143</td>\n",
       "      <td>181.740</td>\n",
       "      <td>3</td>\n",
       "    </tr>\n",
       "    <tr>\n",
       "      <th>4</th>\n",
       "      <td>1</td>\n",
       "      <td>198853</td>\n",
       "      <td>0.618</td>\n",
       "      <td>0.4430</td>\n",
       "      <td>2</td>\n",
       "      <td>-9.681</td>\n",
       "      <td>1</td>\n",
       "      <td>0.0526</td>\n",
       "      <td>0.4690</td>\n",
       "      <td>0.000000</td>\n",
       "      <td>0.0829</td>\n",
       "      <td>0.167</td>\n",
       "      <td>119.949</td>\n",
       "      <td>4</td>\n",
       "    </tr>\n",
       "  </tbody>\n",
       "</table>\n",
       "</div>"
      ],
      "text/plain": [
       "   popularity  duration_ms  danceability  energy  key  loudness  mode  \\\n",
       "0           0       230666         0.676  0.4610    1    -6.746     0   \n",
       "1           0       149610         0.420  0.1660    1   -17.235     1   \n",
       "2           0       210826         0.438  0.3590    0    -9.734     1   \n",
       "3           0       201933         0.266  0.0596    0   -18.515     1   \n",
       "4           1       198853         0.618  0.4430    2    -9.681     1   \n",
       "\n",
       "   speechiness  acousticness  instrumentalness  liveness  valence    tempo  \\\n",
       "0       0.1430        0.0322          0.000001    0.3580    0.715   87.917   \n",
       "1       0.0763        0.9240          0.000006    0.1010    0.267   77.489   \n",
       "2       0.0557        0.2100          0.000000    0.1170    0.120   76.332   \n",
       "3       0.0363        0.9050          0.000071    0.1320    0.143  181.740   \n",
       "4       0.0526        0.4690          0.000000    0.0829    0.167  119.949   \n",
       "\n",
       "   time_signature  \n",
       "0               4  \n",
       "1               4  \n",
       "2               4  \n",
       "3               3  \n",
       "4               4  "
      ]
     },
     "execution_count": 60,
     "metadata": {},
     "output_type": "execute_result"
    }
   ],
   "source": [
    "# remoção da coluna \"explicit\"\n",
    "\n",
    "df_quant = df_quant.drop(columns=['explicit'])\n",
    "df_quant.head()"
   ]
  },
  {
   "cell_type": "code",
   "execution_count": 61,
   "id": "75d6af0d",
   "metadata": {},
   "outputs": [
    {
     "data": {
      "text/html": [
       "<div>\n",
       "<style scoped>\n",
       "    .dataframe tbody tr th:only-of-type {\n",
       "        vertical-align: middle;\n",
       "    }\n",
       "\n",
       "    .dataframe tbody tr th {\n",
       "        vertical-align: top;\n",
       "    }\n",
       "\n",
       "    .dataframe thead th {\n",
       "        text-align: right;\n",
       "    }\n",
       "</style>\n",
       "<table border=\"1\" class=\"dataframe\">\n",
       "  <thead>\n",
       "    <tr style=\"text-align: right;\">\n",
       "      <th></th>\n",
       "      <th>popularity</th>\n",
       "      <th>duration_ms</th>\n",
       "      <th>danceability</th>\n",
       "      <th>energy</th>\n",
       "      <th>key</th>\n",
       "      <th>loudness</th>\n",
       "      <th>mode</th>\n",
       "      <th>speechiness</th>\n",
       "      <th>acousticness</th>\n",
       "      <th>instrumentalness</th>\n",
       "      <th>liveness</th>\n",
       "      <th>valence</th>\n",
       "      <th>tempo</th>\n",
       "      <th>time_signature</th>\n",
       "    </tr>\n",
       "  </thead>\n",
       "  <tbody>\n",
       "    <tr>\n",
       "      <th>0</th>\n",
       "      <td>0.0</td>\n",
       "      <td>0.044043</td>\n",
       "      <td>0.686294</td>\n",
       "      <td>0.4610</td>\n",
       "      <td>0.090909</td>\n",
       "      <td>0.791392</td>\n",
       "      <td>0.0</td>\n",
       "      <td>0.148187</td>\n",
       "      <td>0.032329</td>\n",
       "      <td>0.000001</td>\n",
       "      <td>0.3580</td>\n",
       "      <td>0.718593</td>\n",
       "      <td>0.361245</td>\n",
       "      <td>0.8</td>\n",
       "    </tr>\n",
       "    <tr>\n",
       "      <th>1</th>\n",
       "      <td>0.0</td>\n",
       "      <td>0.028566</td>\n",
       "      <td>0.426396</td>\n",
       "      <td>0.1660</td>\n",
       "      <td>0.090909</td>\n",
       "      <td>0.597377</td>\n",
       "      <td>1.0</td>\n",
       "      <td>0.079067</td>\n",
       "      <td>0.927711</td>\n",
       "      <td>0.000006</td>\n",
       "      <td>0.1010</td>\n",
       "      <td>0.268342</td>\n",
       "      <td>0.318397</td>\n",
       "      <td>0.8</td>\n",
       "    </tr>\n",
       "    <tr>\n",
       "      <th>2</th>\n",
       "      <td>0.0</td>\n",
       "      <td>0.040255</td>\n",
       "      <td>0.444670</td>\n",
       "      <td>0.3590</td>\n",
       "      <td>0.000000</td>\n",
       "      <td>0.736123</td>\n",
       "      <td>1.0</td>\n",
       "      <td>0.057720</td>\n",
       "      <td>0.210843</td>\n",
       "      <td>0.000000</td>\n",
       "      <td>0.1170</td>\n",
       "      <td>0.120603</td>\n",
       "      <td>0.313643</td>\n",
       "      <td>0.8</td>\n",
       "    </tr>\n",
       "    <tr>\n",
       "      <th>3</th>\n",
       "      <td>0.0</td>\n",
       "      <td>0.038557</td>\n",
       "      <td>0.270051</td>\n",
       "      <td>0.0596</td>\n",
       "      <td>0.000000</td>\n",
       "      <td>0.573701</td>\n",
       "      <td>1.0</td>\n",
       "      <td>0.037617</td>\n",
       "      <td>0.908635</td>\n",
       "      <td>0.000071</td>\n",
       "      <td>0.1320</td>\n",
       "      <td>0.143719</td>\n",
       "      <td>0.746758</td>\n",
       "      <td>0.6</td>\n",
       "    </tr>\n",
       "    <tr>\n",
       "      <th>4</th>\n",
       "      <td>1.0</td>\n",
       "      <td>0.037969</td>\n",
       "      <td>0.627411</td>\n",
       "      <td>0.4430</td>\n",
       "      <td>0.181818</td>\n",
       "      <td>0.737103</td>\n",
       "      <td>1.0</td>\n",
       "      <td>0.054508</td>\n",
       "      <td>0.470884</td>\n",
       "      <td>0.000000</td>\n",
       "      <td>0.0829</td>\n",
       "      <td>0.167839</td>\n",
       "      <td>0.492863</td>\n",
       "      <td>0.8</td>\n",
       "    </tr>\n",
       "  </tbody>\n",
       "</table>\n",
       "</div>"
      ],
      "text/plain": [
       "   popularity  duration_ms  danceability  energy       key  loudness  mode  \\\n",
       "0         0.0     0.044043      0.686294  0.4610  0.090909  0.791392   0.0   \n",
       "1         0.0     0.028566      0.426396  0.1660  0.090909  0.597377   1.0   \n",
       "2         0.0     0.040255      0.444670  0.3590  0.000000  0.736123   1.0   \n",
       "3         0.0     0.038557      0.270051  0.0596  0.000000  0.573701   1.0   \n",
       "4         1.0     0.037969      0.627411  0.4430  0.181818  0.737103   1.0   \n",
       "\n",
       "   speechiness  acousticness  instrumentalness  liveness   valence     tempo  \\\n",
       "0     0.148187      0.032329          0.000001    0.3580  0.718593  0.361245   \n",
       "1     0.079067      0.927711          0.000006    0.1010  0.268342  0.318397   \n",
       "2     0.057720      0.210843          0.000000    0.1170  0.120603  0.313643   \n",
       "3     0.037617      0.908635          0.000071    0.1320  0.143719  0.746758   \n",
       "4     0.054508      0.470884          0.000000    0.0829  0.167839  0.492863   \n",
       "\n",
       "   time_signature  \n",
       "0             0.8  \n",
       "1             0.8  \n",
       "2             0.8  \n",
       "3             0.6  \n",
       "4             0.8  "
      ]
     },
     "execution_count": 61,
     "metadata": {},
     "output_type": "execute_result"
    }
   ],
   "source": [
    "# Deixando os dados na mesma escala\n",
    "df_quant=(df_quant-df_quant.min())/(df_quant.max()-df_quant.min())\n",
    "\n",
    "df_quant.head()"
   ]
  },
  {
   "cell_type": "markdown",
   "id": "7353b063",
   "metadata": {},
   "source": [
    "## Divisão do dataset\n",
    "\n",
    "Nessa etapa, o dataset será dividido entre **treino**, **validação** e **teste**. Essa divisão é necessária para avaliar o modelo de forma justa e que não ocorra o overfitting (o overfitting -sobreajuste- ocorre quando um modelo se torna muito complexo ou é excessivamente ajustado aos dados de treinamento, resultando em um desempenho pobre em novos dados). Os dados de treino, como o próprio nome já diz, servirá para treinar o modelo, enquanto o de teste, que são dados que ele nunca viu, para testá-lo. E os dados de validação são usados para ajustar os hiperparâmetros do modelo (parâmetros que melhoram seu desempenho)."
   ]
  },
  {
   "cell_type": "code",
   "execution_count": 62,
   "id": "0ea3755f",
   "metadata": {},
   "outputs": [],
   "source": [
    "# bibliotecas necessárias para a divisão do dataset e construção do modelo\n",
    "from sklearn.model_selection import train_test_split\n",
    "from sklearn.model_selection import StratifiedKFold"
   ]
  },
  {
   "cell_type": "code",
   "execution_count": 63,
   "id": "e6303813",
   "metadata": {},
   "outputs": [],
   "source": [
    "# reservando 20% dos dados para o conjunto de teste\n",
    "df_train, df_test = train_test_split(df_quant, test_size=0.2, random_state=42, shuffle=True)"
   ]
  },
  {
   "cell_type": "code",
   "execution_count": 64,
   "id": "21f78c8b",
   "metadata": {},
   "outputs": [
    {
     "data": {
      "text/plain": [
       "0.0    0.989388\n",
       "1.0    0.010612\n",
       "Name: popularity, dtype: float64"
      ]
     },
     "execution_count": 64,
     "metadata": {},
     "output_type": "execute_result"
    }
   ],
   "source": [
    "# Proporções do dataset de treino\n",
    "df_train.popularity.value_counts(normalize=True)"
   ]
  },
  {
   "cell_type": "code",
   "execution_count": 65,
   "id": "6249bf67",
   "metadata": {},
   "outputs": [
    {
     "data": {
      "text/plain": [
       "0.0    0.989652\n",
       "1.0    0.010348\n",
       "Name: popularity, dtype: float64"
      ]
     },
     "execution_count": 65,
     "metadata": {},
     "output_type": "execute_result"
    }
   ],
   "source": [
    "# Proporções do dataset de teste\n",
    "df_test.popularity.value_counts(normalize=True)"
   ]
  },
  {
   "cell_type": "code",
   "execution_count": 66,
   "id": "00bae2ec",
   "metadata": {},
   "outputs": [],
   "source": [
    "# Dividindo X e Y no campo target (popularity)\n",
    "X = df_train.drop('popularity', axis=1)\n",
    "y = df_train.popularity"
   ]
  },
  {
   "cell_type": "markdown",
   "id": "b591effa",
   "metadata": {},
   "source": [
    "A função StratifiedKFold é usada para realizar a validação cruzada estratificada, \n",
    "que é uma técnica para dividir um conjunto de dados em folds (partições) de maneira que a \n",
    "distribuição das classes seja mantida em cada fold. Isso é útil quando temos classes desbalanceadas, \n",
    "ou seja, quando algumas classes têm um número muito maior ou menor de exemplos do que outras."
   ]
  },
  {
   "cell_type": "code",
   "execution_count": 67,
   "id": "5275346c",
   "metadata": {},
   "outputs": [],
   "source": [
    "StratifKfold = StratifiedKFold(n_splits=5, shuffle=True, random_state=42)\n",
    "\n",
    "# n_splits=5 indica que queremos dividir o conjunto de dados em 5 folds\n",
    "# shuffle=True especifica que os dados serão embaralhados antes de serem divididos em folds\n",
    "# random_state=42 é uma semente (seed) que é usada para garantir que a divisão seja reproduzível"
   ]
  },
  {
   "cell_type": "markdown",
   "id": "ea765ee3",
   "metadata": {},
   "source": [
    "Acima foi necessária a função StratifKfold porque, no target (popularity) temos mais dados contendo 0 do que 1, ocorrendo um desequilíbrio de classes."
   ]
  },
  {
   "cell_type": "code",
   "execution_count": 68,
   "id": "97505c00",
   "metadata": {},
   "outputs": [],
   "source": [
    "# looping para separar os dados em treino e validação\n",
    "for train_index, val_index in StratifKfold.split(X, y):\n",
    "\n",
    "    X_train, X_val = X.iloc[train_index], X.iloc[val_index]\n",
    "    y_train, y_val = y.iloc[train_index], y.iloc[val_index]"
   ]
  },
  {
   "cell_type": "code",
   "execution_count": 69,
   "id": "b95523f1",
   "metadata": {},
   "outputs": [
    {
     "name": "stdout",
     "output_type": "stream",
     "text": [
      "Dimensões: ((72672, 13), (18168, 13), (72672,), (18168,))\n",
      "\n",
      "Proporção do df_train para classe=1: 0.0106\n",
      "\n",
      "Proporção de X_train para classe=1:  0.0106\n",
      "Proporção de X_val para classe=1:    0.0106\n"
     ]
    }
   ],
   "source": [
    "print(f'Dimensões: {X_train.shape, X_val.shape, y_train.shape, y_val.shape}\\n')\n",
    "print(f\"Proporção do df_train para classe=1: {round(len(df_train[df_train.popularity==1]) / df_train.shape[0], 4)}\\n\")\n",
    "print(f\"Proporção de X_train para classe=1:  {round(len(y_train[y_train==1]) / X_train.shape[0], 4)}\")\n",
    "print(f\"Proporção de X_val para classe=1:    {round(len(y_val[y_val==1]) / X_val.shape[0], 4)}\")"
   ]
  },
  {
   "cell_type": "markdown",
   "id": "4bda236b",
   "metadata": {},
   "source": [
    "Agora que as proporções estão as mesmas para as bases de treino e validação, podemos prosseguir trabalhando com a base de treino."
   ]
  },
  {
   "cell_type": "markdown",
   "id": "33a55b9f",
   "metadata": {},
   "source": [
    "## Baseline\n",
    "\n",
    "Aqui, construirei um modelo simples ou uma estratégia de referência que é usada como ponto de partida para comparar o desempenho de outros modelos mais sofisticados ou estratégias mais avançadas. \n",
    "\n",
    "A lógica é criar uma linha de base e, depois, tentar fazer soluções mais complexas para obter um resultado melhor. Se tiver uma pontuação melhor do que a linha de base, isso é bom, mas sempre tomando cuidado com o overfitting. \n",
    "\n",
    "O modelo que usarei é a Regressão Logística, que é relativamente simples de implementar e fornece um ponto de partida razoável para comparar com modelos mais avançados."
   ]
  },
  {
   "cell_type": "code",
   "execution_count": 70,
   "id": "63baa7e3",
   "metadata": {},
   "outputs": [],
   "source": [
    "from sklearn.linear_model import LogisticRegression"
   ]
  },
  {
   "cell_type": "code",
   "execution_count": 71,
   "id": "ef814497",
   "metadata": {},
   "outputs": [],
   "source": [
    "logReg = LogisticRegression()"
   ]
  },
  {
   "cell_type": "code",
   "execution_count": 72,
   "id": "8aa95d6c",
   "metadata": {},
   "outputs": [],
   "source": [
    "# Treinando o modelo\n",
    "logReg.fit(X_train, y_train)\n",
    "\n",
    "# Prevendo nos dados de treino\n",
    "y_pred_base_train = logReg.predict(X_train)\n",
    "\n",
    "# Prevendo nos dados de validação\n",
    "y_pred_base_val = logReg.predict(X_val)"
   ]
  },
  {
   "cell_type": "code",
   "execution_count": 73,
   "id": "9cb89a77",
   "metadata": {},
   "outputs": [
    {
     "data": {
      "text/plain": [
       "[-0.6243040660196293,\n",
       " 2.466887477170563,\n",
       " -1.745952567848665,\n",
       " 0.18178561276792018,\n",
       " 5.24780078139187,\n",
       " -0.07169840124885964,\n",
       " -0.8793891238680377,\n",
       " -1.8179430731883353,\n",
       " -2.945708461717406,\n",
       " -1.1635616885061708,\n",
       " -0.5589387577756246,\n",
       " -0.8083470511291844,\n",
       " -1.011518182543806]"
      ]
     },
     "execution_count": 73,
     "metadata": {},
     "output_type": "execute_result"
    }
   ],
   "source": [
    "# coeficientes estimados do modelo\n",
    "logReg.coef_.tolist()[0]"
   ]
  },
  {
   "cell_type": "code",
   "execution_count": 74,
   "id": "06f831ee",
   "metadata": {},
   "outputs": [
    {
     "data": {
      "text/plain": [
       "Index(['duration_ms', 'danceability', 'energy', 'key', 'loudness', 'mode',\n",
       "       'speechiness', 'acousticness', 'instrumentalness', 'liveness',\n",
       "       'valence', 'tempo', 'time_signature'],\n",
       "      dtype='object')"
      ]
     },
     "execution_count": 74,
     "metadata": {},
     "output_type": "execute_result"
    }
   ],
   "source": [
    "df_coef = df_quant.drop(columns='popularity')\n",
    "df_coef.columns"
   ]
  },
  {
   "cell_type": "code",
   "execution_count": 75,
   "id": "25ba6324",
   "metadata": {},
   "outputs": [
    {
     "data": {
      "text/html": [
       "<div>\n",
       "<style scoped>\n",
       "    .dataframe tbody tr th:only-of-type {\n",
       "        vertical-align: middle;\n",
       "    }\n",
       "\n",
       "    .dataframe tbody tr th {\n",
       "        vertical-align: top;\n",
       "    }\n",
       "\n",
       "    .dataframe thead th {\n",
       "        text-align: right;\n",
       "    }\n",
       "</style>\n",
       "<table border=\"1\" class=\"dataframe\">\n",
       "  <thead>\n",
       "    <tr style=\"text-align: right;\">\n",
       "      <th></th>\n",
       "      <th>Features</th>\n",
       "      <th>Coef</th>\n",
       "    </tr>\n",
       "  </thead>\n",
       "  <tbody>\n",
       "    <tr>\n",
       "      <th>0</th>\n",
       "      <td>duration_ms</td>\n",
       "      <td>-0.624304</td>\n",
       "    </tr>\n",
       "    <tr>\n",
       "      <th>1</th>\n",
       "      <td>danceability</td>\n",
       "      <td>2.466887</td>\n",
       "    </tr>\n",
       "    <tr>\n",
       "      <th>2</th>\n",
       "      <td>energy</td>\n",
       "      <td>-1.745953</td>\n",
       "    </tr>\n",
       "    <tr>\n",
       "      <th>3</th>\n",
       "      <td>key</td>\n",
       "      <td>0.181786</td>\n",
       "    </tr>\n",
       "    <tr>\n",
       "      <th>4</th>\n",
       "      <td>loudness</td>\n",
       "      <td>5.247801</td>\n",
       "    </tr>\n",
       "    <tr>\n",
       "      <th>5</th>\n",
       "      <td>mode</td>\n",
       "      <td>-0.071698</td>\n",
       "    </tr>\n",
       "    <tr>\n",
       "      <th>6</th>\n",
       "      <td>speechiness</td>\n",
       "      <td>-0.879389</td>\n",
       "    </tr>\n",
       "    <tr>\n",
       "      <th>7</th>\n",
       "      <td>acousticness</td>\n",
       "      <td>-1.817943</td>\n",
       "    </tr>\n",
       "    <tr>\n",
       "      <th>8</th>\n",
       "      <td>instrumentalness</td>\n",
       "      <td>-2.945708</td>\n",
       "    </tr>\n",
       "    <tr>\n",
       "      <th>9</th>\n",
       "      <td>liveness</td>\n",
       "      <td>-1.163562</td>\n",
       "    </tr>\n",
       "    <tr>\n",
       "      <th>10</th>\n",
       "      <td>valence</td>\n",
       "      <td>-0.558939</td>\n",
       "    </tr>\n",
       "    <tr>\n",
       "      <th>11</th>\n",
       "      <td>tempo</td>\n",
       "      <td>-0.808347</td>\n",
       "    </tr>\n",
       "    <tr>\n",
       "      <th>12</th>\n",
       "      <td>time_signature</td>\n",
       "      <td>-1.011518</td>\n",
       "    </tr>\n",
       "  </tbody>\n",
       "</table>\n",
       "</div>"
      ],
      "text/plain": [
       "            Features      Coef\n",
       "0        duration_ms -0.624304\n",
       "1       danceability  2.466887\n",
       "2             energy -1.745953\n",
       "3                key  0.181786\n",
       "4           loudness  5.247801\n",
       "5               mode -0.071698\n",
       "6        speechiness -0.879389\n",
       "7       acousticness -1.817943\n",
       "8   instrumentalness -2.945708\n",
       "9           liveness -1.163562\n",
       "10           valence -0.558939\n",
       "11             tempo -0.808347\n",
       "12    time_signature -1.011518"
      ]
     },
     "execution_count": 75,
     "metadata": {},
     "output_type": "execute_result"
    }
   ],
   "source": [
    "data = {\n",
    "    \"Features\": df_coef.columns,\n",
    "    \"Coef\": logReg.coef_.tolist()[0]\n",
    "}\n",
    "\n",
    "d_f = pd.DataFrame(data)\n",
    "d_f"
   ]
  },
  {
   "cell_type": "markdown",
   "id": "1275c367",
   "metadata": {},
   "source": [
    "Esses coeficientes nos dão uma ideia estimada do modelo de regressão logística para cada variável independente. Um coeficiente positivo indica que, à medida que o valor da variável independente aumenta, a probabilidade de pertencer à classe positiva também aumenta."
   ]
  },
  {
   "cell_type": "markdown",
   "id": "0de3f054",
   "metadata": {},
   "source": [
    "### Validação da Baseline\n",
    "\n",
    "Medirei:\n",
    "\n",
    "1) a acurácia: mede a proporção de predições corretas em relação ao total de predições\n",
    "\n",
    "2) precisão: mede a capacidade do modelo em fazer predições corretas entre todas as instâncias classificadas como positiva (minimiza falsos positivos)\n",
    "\n",
    "3) recall: mede a capacidade do modelo em identificar corretamente todas as instâncias positivas (minimiza falsos negativos) \n",
    "\n",
    "4) pontuação f1:  média harmônica da precisão e do recall\n",
    "\n",
    "5) matriz de confusão: indica quantos exemplos existem em cada grupo: falso positivo (FP), falso negativo (FN), verdadeiro positivo (TP) e verdadeiro negativo (TN)"
   ]
  },
  {
   "cell_type": "code",
   "execution_count": 76,
   "id": "2239e68f",
   "metadata": {},
   "outputs": [
    {
     "name": "stdout",
     "output_type": "stream",
     "text": [
      "Base de treino:\n",
      "0.0    71901\n",
      "1.0      771\n",
      "Name: popularity, dtype: int64\n",
      "------------------------------\n",
      "Base de validação:\n",
      "0.0    17975\n",
      "1.0      193\n",
      "Name: popularity, dtype: int64\n"
     ]
    }
   ],
   "source": [
    "print(f'Base de treino:\\n{y_train.value_counts()}')\n",
    "print('-'*30)\n",
    "print(f'Base de validação:\\n{y_val.value_counts()}')"
   ]
  },
  {
   "cell_type": "code",
   "execution_count": 77,
   "id": "5a445003",
   "metadata": {},
   "outputs": [],
   "source": [
    "from sklearn.metrics import accuracy_score, precision_score, recall_score, f1_score"
   ]
  },
  {
   "cell_type": "code",
   "execution_count": 78,
   "id": "46c86307",
   "metadata": {},
   "outputs": [
    {
     "name": "stdout",
     "output_type": "stream",
     "text": [
      "Nos dados de TREINO:\n",
      "------------------------------------------------------------\n",
      "Modelo:    Regressão Logística (baseline)\n",
      "\n",
      "accuracy:  0.9893906869220608\n",
      "precision: 0.0\n",
      "recall:    0.0\n",
      "f1:        0.0\n",
      "\n",
      "------------------------------------------------------------\n",
      "------------------------------------------------------------\n",
      "\n",
      "Nos dados de VALIDAÇÃO:\n",
      "------------------------------------------------------------\n",
      "Modelo:    Regressão Logística (baseline)\n",
      "\n",
      "accuracy:  0.9893769264641127\n",
      "precision: 0.0\n",
      "recall:    0.0\n",
      "f1:        0.0\n",
      "------------------------------------------------------------\n"
     ]
    }
   ],
   "source": [
    "print('Nos dados de TREINO:')\n",
    "\n",
    "print('---' * 20)\n",
    "print('Modelo:    Regressão Logística (baseline)\\n')\n",
    "print(f\"accuracy:  {accuracy_score(y_train, y_pred_base_train)}\")\n",
    "print(f\"precision: {precision_score(y_train, y_pred_base_train)}\")\n",
    "print(f\"recall:    {recall_score(y_train, y_pred_base_train)}\")\n",
    "print(f\"f1:        {f1_score(y_train, y_pred_base_train)}\")\n",
    "print()\n",
    "print('---' * 20)\n",
    "print('---' * 20)\n",
    "print()\n",
    "print('Nos dados de VALIDAÇÃO:')\n",
    "print('---' * 20)\n",
    "print('Modelo:    Regressão Logística (baseline)\\n')\n",
    "print(f\"accuracy:  {accuracy_score(y_val, y_pred_base_val)}\")\n",
    "print(f\"precision: {precision_score(y_val, y_pred_base_val)}\")\n",
    "print(f\"recall:    {recall_score(y_val, y_pred_base_val)}\")\n",
    "print(f\"f1:        {f1_score(y_val, y_pred_base_val)}\")\n",
    "print('---' * 20)"
   ]
  },
  {
   "cell_type": "code",
   "execution_count": 79,
   "id": "1fa07f78",
   "metadata": {},
   "outputs": [],
   "source": [
    "from sklearn.metrics import confusion_matrix"
   ]
  },
  {
   "cell_type": "code",
   "execution_count": 80,
   "id": "82db2282",
   "metadata": {},
   "outputs": [
    {
     "data": {
      "image/png": "[encoded data removed]",
      "text/plain": [
       "<Figure size 432x288 with 2 Axes>"
      ]
     },
     "metadata": {
      "needs_background": "light"
     },
     "output_type": "display_data"
    }
   ],
   "source": [
    "cm_train = confusion_matrix(y_train, y_pred_base_train)\n",
    "\n",
    "sns.heatmap(cm_train, annot=True, fmt=\"d\", cmap=\"Blues\")\n",
    "plt.title('Matriz de Confusão - Treinamento')\n",
    "plt.xlabel('Predito')\n",
    "plt.ylabel('Real')\n",
    "plt.show()"
   ]
  },
  {
   "cell_type": "code",
   "execution_count": 81,
   "id": "152c8c0a",
   "metadata": {},
   "outputs": [
    {
     "data": {
      "image/png": "[encoded data removed]",
      "text/plain": [
       "<Figure size 432x288 with 2 Axes>"
      ]
     },
     "metadata": {
      "needs_background": "light"
     },
     "output_type": "display_data"
    }
   ],
   "source": [
    "# Calculando a matriz de confusão para os dados de validação\n",
    "cm_val = confusion_matrix(y_val, y_pred_base_val)\n",
    "\n",
    "sns.heatmap(cm_val, annot=True, fmt=\"d\", cmap=\"Blues\")\n",
    "plt.title('Matriz de Confusão - Treinamento')\n",
    "plt.xlabel('Predito')\n",
    "plt.ylabel('Real')\n",
    "plt.show()"
   ]
  },
  {
   "cell_type": "markdown",
   "id": "7911c0c9",
   "metadata": {},
   "source": [
    "Interpretação da matriz:\n",
    "\n",
    "**[TN  FP]**\n",
    "\n",
    "**[FN  TP]**\n",
    "\n",
    "1) True Negatives - TN: Nnsse quadrante, estão os casos em que o modelo classificou corretamente as amostras como negativas, ou seja, a classe real é negativa e o modelo predisse corretamente como negativa.\n",
    "\n",
    "2) False Positives - FP: nesse quadrante, estão os casos em que o modelo classificou erroneamente as amostras como positivas, ou seja, a classe real é negativa, mas o modelo predisse como positiva.\n",
    "\n",
    "3) False Negatives - FN: nesse quadrante, estão os casos em que o modelo classificou erroneamente as amostras como negativas, ou seja, a classe real é positiva, mas o modelo predisse como negativa.\n",
    "\n",
    "4) True Positives - TP: Nesse quadrante, estão os casos em que o modelo classificou corretamente as amostras como positivas, ou seja, a classe real é positiva e o modelo predisse corretamente como positiva."
   ]
  },
  {
   "cell_type": "markdown",
   "id": "7b622090",
   "metadata": {},
   "source": [
    "Tá bem ruinzinho esse modelo, né? A acurácia está alta, mas o overfitting pode ter acontecido. Isso demonstra o desbalanceamento entre as classes (maior número de músicas não populares do que populares) que afeta diretamente nas predições dele. Vamos balanceá-los e aplicar em outros modelos."
   ]
  },
  {
   "cell_type": "markdown",
   "id": "49563fb5",
   "metadata": {},
   "source": [
    "## Reamostragem, teste e validação\n",
    "\n",
    "Nesse tópico testaremos e escolheremos o modelo que melhor performará. Testaremos os dados com **KNN (K-Nearest Neighbors)**, **Regressão Logística**, **Decision Tree** e **Random Forest**. Além disso, como temos classes desequilibradas, podendo afetar negativamente o desempenho de modelos de aprendizado de máquina, usaremos técnicas relacionadas ao balanceamento de classes como **Distribuição (Random UnderSampling)**, **Distribuição (Random Over-Sampling)**, **SMOTE (Over-Sampling)** e **Híbrido: Oversampling e Undersampling**."
   ]
  },
  {
   "cell_type": "code",
   "execution_count": 82,
   "id": "707e8926",
   "metadata": {},
   "outputs": [],
   "source": [
    "from sklearn.neighbors import KNeighborsClassifier\n",
    "from sklearn.tree import DecisionTreeClassifier\n",
    "from sklearn.ensemble import RandomForestClassifier"
   ]
  },
  {
   "cell_type": "code",
   "execution_count": 83,
   "id": "d8df29c4",
   "metadata": {},
   "outputs": [],
   "source": [
    "# Dicionário dos classificadores\n",
    "classifiers = {\n",
    "    \"LogisiticRegression\": LogisticRegression(),\n",
    "    \"KNearest\": KNeighborsClassifier(),\n",
    "    \"DecisionTreeClassifier\": DecisionTreeClassifier(), \n",
    "    \"Random Forest\": RandomForestClassifier()\n",
    "}"
   ]
  },
  {
   "cell_type": "markdown",
   "id": "fc3b9570",
   "metadata": {},
   "source": [
    "### Distribuição (Random UnderSampling)\n",
    "\n",
    "Random UnderSampling envolve a redução aleatória da classe majoritária para que o número de amostras se iguale ao número de amostras da classe minoritária. Essa técnica remove aleatoriamente exemplos da classe majoritária até que haja um equilíbrio com a classe minoritária. No entanto, essa abordagem pode resultar na perda de informações valiosas e no descarte de amostras importantes."
   ]
  },
  {
   "cell_type": "code",
   "execution_count": 84,
   "id": "9f520f86",
   "metadata": {},
   "outputs": [],
   "source": [
    "from imblearn.under_sampling import NearMiss\n",
    "from collections import Counter"
   ]
  },
  {
   "cell_type": "code",
   "execution_count": 85,
   "id": "06225409",
   "metadata": {},
   "outputs": [],
   "source": [
    "undersample = NearMiss(version=1)"
   ]
  },
  {
   "cell_type": "code",
   "execution_count": 86,
   "id": "74cd357a",
   "metadata": {},
   "outputs": [],
   "source": [
    "# transformando o conjunto de dados\n",
    "X_under, y_under = undersample.fit_resample(X_train, y_train)"
   ]
  },
  {
   "cell_type": "code",
   "execution_count": 87,
   "id": "9889272b",
   "metadata": {},
   "outputs": [
    {
     "name": "stdout",
     "output_type": "stream",
     "text": [
      "Counter({0.0: 771, 1.0: 771})\n"
     ]
    }
   ],
   "source": [
    "# resumindo a distribuição da nova classe\n",
    "counter = Counter(y_under)\n",
    "print(counter)"
   ]
  },
  {
   "cell_type": "code",
   "execution_count": 88,
   "id": "b752418a",
   "metadata": {},
   "outputs": [
    {
     "name": "stdout",
     "output_type": "stream",
     "text": [
      "Modelo:    LogisiticRegression\n",
      "\n",
      "accuracy:  0.22589167767503301\n",
      "precision: 0.006896551724137931\n",
      "recall:    0.5025906735751295\n",
      "f1:        0.013606396409033524\n",
      "\n",
      "Matriz de Confusão:\n",
      "[[ 4007 13968]\n",
      " [   96    97]]\n",
      "\n",
      "----------------------------------------\n",
      "Modelo:    KNearest\n",
      "\n",
      "accuracy:  0.19407749889916337\n",
      "precision: 0.009704784526637257\n",
      "recall:    0.7409326424870466\n",
      "f1:        0.01915862808145766\n",
      "\n",
      "Matriz de Confusão:\n",
      "[[ 3383 14592]\n",
      " [   50   143]]\n",
      "\n",
      "----------------------------------------\n",
      "Modelo:    DecisionTreeClassifier\n",
      "\n",
      "accuracy:  0.24917437252311758\n",
      "precision: 0.012188044109112013\n",
      "recall:    0.8704663212435233\n",
      "f1:        0.0240394934535308\n",
      "\n",
      "Matriz de Confusão:\n",
      "[[ 4359 13616]\n",
      " [   25   168]]\n",
      "\n",
      "----------------------------------------\n",
      "Modelo:    Random Forest\n",
      "\n",
      "accuracy:  0.04909731395860854\n",
      "precision: 0.010431592823981201\n",
      "recall:    0.9430051813471503\n",
      "f1:        0.020634920634920634\n",
      "\n",
      "Matriz de Confusão:\n",
      "[[  710 17265]\n",
      " [   11   182]]\n",
      "\n",
      "----------------------------------------\n"
     ]
    }
   ],
   "source": [
    "for nome, model in classifiers.items():\n",
    "    \n",
    "    model.fit(X_under, y_under)\n",
    "    y_pred = model.predict(X_val)\n",
    "    \n",
    "    print(f'Modelo:    {nome}\\n')\n",
    "    print(f\"accuracy:  {accuracy_score(y_val, y_pred)}\")\n",
    "    print(f\"precision: {precision_score(y_val, y_pred)}\")\n",
    "    print(f\"recall:    {recall_score(y_val, y_pred)}\")\n",
    "    print(f\"f1:        {f1_score(y_val, y_pred)}\")\n",
    "    \n",
    "    # matriz de confusão\n",
    "    cm = confusion_matrix(y_val, y_pred)\n",
    "    print(\"\\nMatriz de Confusão:\")\n",
    "    print(f\"{cm}\\n\")\n",
    "    \n",
    "    print('--' * 20)"
   ]
  },
  {
   "cell_type": "markdown",
   "id": "72f5e990",
   "metadata": {},
   "source": [
    "No geral, todos os modelos tiveram uma baixa performance, fazendo de cara descartá-los ultilizando UnderSampling."
   ]
  },
  {
   "cell_type": "markdown",
   "id": "87b2356e",
   "metadata": {},
   "source": [
    "### Distribuição (Random Over-Sampling)\n",
    "\n",
    "Random Over-Sampling envolve a replicação aleatória de amostras da classe minoritária até que o número de amostras se iguale ao número de amostras da classe majoritária. Essa técnica cria réplicas aleatórias dos exemplos da classe minoritária, aumentando sua representação no conjunto de dados. No entanto, a replicação excessiva pode levar ao superajuste e à perda de diversidade nos dados."
   ]
  },
  {
   "cell_type": "code",
   "execution_count": 89,
   "id": "61a40d72",
   "metadata": {},
   "outputs": [],
   "source": [
    "from imblearn.over_sampling import RandomOverSampler"
   ]
  },
  {
   "cell_type": "code",
   "execution_count": 90,
   "id": "3c1d72ff",
   "metadata": {},
   "outputs": [],
   "source": [
    "oversample = RandomOverSampler(sampling_strategy='minority')"
   ]
  },
  {
   "cell_type": "code",
   "execution_count": 91,
   "id": "02548f39",
   "metadata": {},
   "outputs": [],
   "source": [
    "# transformando o conjunto de dados\n",
    "X_over, y_over = oversample.fit_resample(X_train, y_train)"
   ]
  },
  {
   "cell_type": "code",
   "execution_count": 92,
   "id": "4196cbe0",
   "metadata": {},
   "outputs": [
    {
     "name": "stdout",
     "output_type": "stream",
     "text": [
      "Counter({0.0: 71901, 1.0: 71901})\n"
     ]
    }
   ],
   "source": [
    "# resumindo a distribuição da nova classe\n",
    "counter = Counter(y_over)\n",
    "print(counter)"
   ]
  },
  {
   "cell_type": "code",
   "execution_count": 93,
   "id": "74a2aef2",
   "metadata": {},
   "outputs": [
    {
     "name": "stdout",
     "output_type": "stream",
     "text": [
      "Modelo:    LogisiticRegression\n",
      "\n",
      "accuracy:  0.6264861294583883\n",
      "precision: 0.02106639546709284\n",
      "recall:    0.7512953367875648\n",
      "f1:        0.04098360655737705\n",
      "\n",
      "Matriz de Confusão:\n",
      "[[11237  6738]\n",
      " [   48   145]]\n",
      "\n",
      "----------------------------------------\n",
      "Modelo:    KNearest\n",
      "\n",
      "accuracy:  0.9750110083663585\n",
      "precision: 0.23847695390781562\n",
      "recall:    0.616580310880829\n",
      "f1:        0.34393063583815026\n",
      "\n",
      "Matriz de Confusão:\n",
      "[[17595   380]\n",
      " [   74   119]]\n",
      "\n",
      "----------------------------------------\n",
      "Modelo:    DecisionTreeClassifier\n",
      "\n",
      "accuracy:  0.9839277851166887\n",
      "precision: 0.3651226158038147\n",
      "recall:    0.694300518134715\n",
      "f1:        0.4785714285714286\n",
      "\n",
      "Matriz de Confusão:\n",
      "[[17742   233]\n",
      " [   59   134]]\n",
      "\n",
      "----------------------------------------\n",
      "Modelo:    Random Forest\n",
      "\n",
      "accuracy:  0.989487010127697\n",
      "precision: 0.50390625\n",
      "recall:    0.6683937823834197\n",
      "f1:        0.5746102449888641\n",
      "\n",
      "Matriz de Confusão:\n",
      "[[17848   127]\n",
      " [   64   129]]\n",
      "\n",
      "----------------------------------------\n"
     ]
    }
   ],
   "source": [
    "for nome, model in classifiers.items():\n",
    "    \n",
    "    model.fit(X_over, y_over)\n",
    "    y_pred = model.predict(X_val)\n",
    "    \n",
    "    print(f'Modelo:    {nome}\\n')\n",
    "    print(f\"accuracy:  {accuracy_score(y_val, y_pred)}\")\n",
    "    print(f\"precision: {precision_score(y_val, y_pred)}\")\n",
    "    print(f\"recall:    {recall_score(y_val, y_pred)}\")\n",
    "    print(f\"f1:        {f1_score(y_val, y_pred)}\")\n",
    "    \n",
    "    # matriz de confusão\n",
    "    cm = confusion_matrix(y_val, y_pred)\n",
    "    print(\"\\nMatriz de Confusão:\")\n",
    "    print(f\"{cm}\\n\")\n",
    "    \n",
    "    print('--' * 20)"
   ]
  },
  {
   "cell_type": "markdown",
   "id": "5b38e3cb",
   "metadata": {},
   "source": [
    "Nesse caso, Random Forest foi o que melhor performou, tendo uma acurácia alta (98,9%), uma precisão de 50%, recall de 66,8% e f1 de 57,4%. "
   ]
  },
  {
   "cell_type": "markdown",
   "id": "683c9204",
   "metadata": {},
   "source": [
    "### SMOTE (Over-Sampling)\n",
    "\n",
    "SMOTE (Synthetic Minority Over-sampling Technique) é uma técnica de over-sampling que cria novas amostras sintéticas para a classe minoritária. Ela seleciona aleatoriamente uma amostra da classe minoritária e gera uma nova amostra sintética interpolando características entre essa amostra e seus vizinhos. O SMOTE ajuda a superar o problema de replicação excessiva, introduzindo novas amostras sintéticas que são plausíveis dentro do espaço de características."
   ]
  },
  {
   "cell_type": "code",
   "execution_count": 94,
   "id": "06ab88e4",
   "metadata": {},
   "outputs": [],
   "source": [
    "from imblearn.over_sampling import SMOTE"
   ]
  },
  {
   "cell_type": "code",
   "execution_count": 95,
   "id": "2b001978",
   "metadata": {},
   "outputs": [],
   "source": [
    "oversample_smote = SMOTE(sampling_strategy='minority')"
   ]
  },
  {
   "cell_type": "code",
   "execution_count": 96,
   "id": "fc0ec96f",
   "metadata": {},
   "outputs": [],
   "source": [
    "# transformando o conjunto de dados\n",
    "X_smote, y_smote = oversample_smote.fit_resample(X_train, y_train)"
   ]
  },
  {
   "cell_type": "code",
   "execution_count": 97,
   "id": "5d77bb57",
   "metadata": {},
   "outputs": [
    {
     "name": "stdout",
     "output_type": "stream",
     "text": [
      "Counter({0.0: 71901, 1.0: 71901})\n"
     ]
    }
   ],
   "source": [
    "# resumindo a distribuição da nova classe\n",
    "counter = Counter(y_smote)\n",
    "print(counter)"
   ]
  },
  {
   "cell_type": "code",
   "execution_count": 98,
   "id": "0c169897",
   "metadata": {},
   "outputs": [
    {
     "name": "stdout",
     "output_type": "stream",
     "text": [
      "Modelo:    LogisiticRegression\n",
      "\n",
      "accuracy:  0.6395310435931307\n",
      "precision: 0.021673690547862733\n",
      "recall:    0.7461139896373057\n",
      "f1:        0.04212373848179026\n",
      "\n",
      "Matriz de Confusão:\n",
      "[[11475  6500]\n",
      " [   49   144]]\n",
      "\n",
      "----------------------------------------\n",
      "Modelo:    KNearest\n",
      "\n",
      "accuracy:  0.9418758256274768\n",
      "precision: 0.10950226244343891\n",
      "recall:    0.6269430051813472\n",
      "f1:        0.1864406779661017\n",
      "\n",
      "Matriz de Confusão:\n",
      "[[16991   984]\n",
      " [   72   121]]\n",
      "\n",
      "----------------------------------------\n",
      "Modelo:    DecisionTreeClassifier\n",
      "\n",
      "accuracy:  0.9664244826067812\n",
      "precision: 0.1874062968515742\n",
      "recall:    0.6476683937823834\n",
      "f1:        0.29069767441860467\n",
      "\n",
      "Matriz de Confusão:\n",
      "[[17433   542]\n",
      " [   68   125]]\n",
      "\n",
      "----------------------------------------\n",
      "Modelo:    Random Forest\n",
      "\n",
      "accuracy:  0.9899273447820344\n",
      "precision: 0.5213675213675214\n",
      "recall:    0.6321243523316062\n",
      "f1:        0.5714285714285715\n",
      "\n",
      "Matriz de Confusão:\n",
      "[[17863   112]\n",
      " [   71   122]]\n",
      "\n",
      "----------------------------------------\n"
     ]
    }
   ],
   "source": [
    "for nome, model in classifiers.items():\n",
    "    \n",
    "    model.fit(X_smote, y_smote)\n",
    "    y_pred = model.predict(X_val)\n",
    "    \n",
    "    print(f'Modelo:    {nome}\\n')\n",
    "    print(f\"accuracy:  {accuracy_score(y_val, y_pred)}\")\n",
    "    print(f\"precision: {precision_score(y_val, y_pred)}\")\n",
    "    print(f\"recall:    {recall_score(y_val, y_pred)}\")\n",
    "    print(f\"f1:        {f1_score(y_val, y_pred)}\")\n",
    "    \n",
    "    # matriz de confusão\n",
    "    cm = confusion_matrix(y_val, y_pred)\n",
    "    print(\"\\nMatriz de Confusão:\")\n",
    "    print(f\"{cm}\\n\")\n",
    "    \n",
    "    print('--' * 20)"
   ]
  },
  {
   "cell_type": "markdown",
   "id": "62e07438",
   "metadata": {},
   "source": [
    "Novamento Random Forest foi o que melhor performou, com acurácia de 98,9%, precisão de 52%, recall de 63,2% e f1 de 57%. "
   ]
  },
  {
   "cell_type": "markdown",
   "id": "b7f1b443",
   "metadata": {},
   "source": [
    "### Híbrido: Oversampling e Undersampling\n",
    "\n",
    "Esta técnica combina as abordagens de over-sampling e under-sampling. Ela envolve a aplicação de uma técnica de under-sampling na classe majoritária e uma técnica de over-sampling na classe minoritária, simultaneamente. O objetivo é equilibrar as classes removendo exemplos da classe majoritária e adicionando exemplos à classe minoritária, de forma a preservar informações e evitar o superajuste."
   ]
  },
  {
   "cell_type": "code",
   "execution_count": 99,
   "id": "ad5d17ac",
   "metadata": {},
   "outputs": [],
   "source": [
    "from imblearn.over_sampling import RandomOverSampler\n",
    "from imblearn.under_sampling import RandomUnderSampler\n",
    "from imblearn.pipeline import Pipeline"
   ]
  },
  {
   "cell_type": "markdown",
   "id": "b0322d7d",
   "metadata": {},
   "source": [
    "**ampling_strategy = 0.1**: a classe minoritária será amostrada para aumentar sua representação até atingir 10% do número de amostras da classe majoritária.\n",
    "\n",
    "**sampling_strategy = 0.5**: a classe majoritária será amostrada para reduzir sua representação a 50% do número de amostras da classe minoritária."
   ]
  },
  {
   "cell_type": "code",
   "execution_count": 100,
   "id": "3e45301f",
   "metadata": {},
   "outputs": [],
   "source": [
    "# transformando o conjunto de dados\n",
    "over = RandomOverSampler(sampling_strategy=0.1)\n",
    "under = RandomUnderSampler(sampling_strategy=0.5)"
   ]
  },
  {
   "cell_type": "code",
   "execution_count": 101,
   "id": "ac694568",
   "metadata": {},
   "outputs": [],
   "source": [
    "pipeline = Pipeline(steps=[('o', over), ('u', under)])"
   ]
  },
  {
   "cell_type": "markdown",
   "id": "c1edac41",
   "metadata": {},
   "source": [
    "No ``pipeline``, o oversampling é realizado primeiro para aumentar a representação da classe minoritária e, em seguida, o undersampling é aplicado para reduzir a representação da classe majoritária. Ao usar o pipeline, os dados de entrada (X e y) são passados sequencialmente por cada etapa. Primeiro, o oversampling é aplicado, aumentando a representação da classe minoritária. Em seguida, o undersampling é aplicado, reduzindo a representação da classe majoritária. O resultado final é um conjunto de dados balanceado e pré-processado, pronto para ser usado em modelos."
   ]
  },
  {
   "cell_type": "code",
   "execution_count": 102,
   "id": "255c5326",
   "metadata": {},
   "outputs": [],
   "source": [
    "# transformando o conjunto de dados\n",
    "X_under_over, y_under_over = pipeline.fit_resample(X_train, y_train)"
   ]
  },
  {
   "cell_type": "code",
   "execution_count": 103,
   "id": "aa0b000a",
   "metadata": {},
   "outputs": [
    {
     "name": "stdout",
     "output_type": "stream",
     "text": [
      "Counter({0.0: 14380, 1.0: 7190})\n"
     ]
    }
   ],
   "source": [
    "counter = Counter(y_under_over)\n",
    "print(counter)"
   ]
  },
  {
   "cell_type": "code",
   "execution_count": 104,
   "id": "4572e3c0",
   "metadata": {},
   "outputs": [
    {
     "name": "stdout",
     "output_type": "stream",
     "text": [
      "Modelo:    LogisiticRegression\n",
      "\n",
      "accuracy:  0.8674592690444738\n",
      "precision: 0.03289751159848165\n",
      "recall:    0.40414507772020725\n",
      "f1:        0.060842433697347896\n",
      "\n",
      "Matriz de Confusão:\n",
      "[[15682  2293]\n",
      " [  115    78]]\n",
      "\n",
      "----------------------------------------\n",
      "Modelo:    KNearest\n",
      "\n",
      "accuracy:  0.9036767943637164\n",
      "precision: 0.07295666483817882\n",
      "recall:    0.689119170984456\n",
      "f1:        0.13194444444444442\n",
      "\n",
      "Matriz de Confusão:\n",
      "[[16285  1690]\n",
      " [   60   133]]\n",
      "\n",
      "----------------------------------------\n",
      "Modelo:    DecisionTreeClassifier\n",
      "\n",
      "accuracy:  0.958883751651255\n",
      "precision: 0.16219512195121952\n",
      "recall:    0.689119170984456\n",
      "f1:        0.26258637709772953\n",
      "\n",
      "Matriz de Confusão:\n",
      "[[17288   687]\n",
      " [   60   133]]\n",
      "\n",
      "----------------------------------------\n",
      "Modelo:    Random Forest\n",
      "\n",
      "accuracy:  0.9893218846323205\n",
      "precision: 0.4980694980694981\n",
      "recall:    0.6683937823834197\n",
      "f1:        0.5707964601769911\n",
      "\n",
      "Matriz de Confusão:\n",
      "[[17845   130]\n",
      " [   64   129]]\n",
      "\n",
      "----------------------------------------\n"
     ]
    }
   ],
   "source": [
    "for nome, model in classifiers.items():\n",
    "    \n",
    "    model.fit(X_under_over, y_under_over)\n",
    "    y_pred = model.predict(X_val)\n",
    "    \n",
    "    print(f'Modelo:    {nome}\\n')\n",
    "    print(f\"accuracy:  {accuracy_score(y_val, y_pred)}\")\n",
    "    print(f\"precision: {precision_score(y_val, y_pred)}\")\n",
    "    print(f\"recall:    {recall_score(y_val, y_pred)}\")\n",
    "    print(f\"f1:        {f1_score(y_val, y_pred)}\")\n",
    "    \n",
    "    # matriz de confusão\n",
    "    cm = confusion_matrix(y_val, y_pred)\n",
    "    print(\"\\nMatriz de Confusão:\")\n",
    "    print(f\"{cm}\\n\")\n",
    "    \n",
    "    print('--' * 20)"
   ]
  },
  {
   "cell_type": "markdown",
   "id": "0f8b2bde",
   "metadata": {},
   "source": [
    "Random Forest também teve um valor alto aqui, com 98,9% de acurácia, 49,8% de precisão, 66,8% de recall e f1 de 57%."
   ]
  },
  {
   "cell_type": "markdown",
   "id": "911b328f",
   "metadata": {},
   "source": [
    "## Avaliação dos modelos ✔️"
   ]
  },
  {
   "cell_type": "markdown",
   "id": "2e2ddb42",
   "metadata": {},
   "source": [
    "Essa etapa consiste na escolha do modelo, verificando o que melhor performou. Analisando todas as classificações e balanceamentos de classe, o modelo que melhor performou foi **Random Forest** e o método de balaceamento **Random Over-Sampling** e **SMOTE**, mas para definir qual foi a melhor técnica, vamos revisar sobre as métricas avaliadas no nosso contexto.\n",
    "\n",
    "Obs: Outro ponto é que as vezes uma precisão maior pode ter o risco de overfitting, então vou tunar os parâmetros da Random Forest com Random Over-sampling."
   ]
  },
  {
   "cell_type": "markdown",
   "id": "9d841285",
   "metadata": {},
   "source": [
    "### Ajustando (tunning) o modelo selecionado"
   ]
  },
  {
   "cell_type": "markdown",
   "id": "acfba154",
   "metadata": {},
   "source": [
    "Vou definir os hiperparâmetros para analisar a melhor performance com a validação cruzada, mas antes vamos colocar os dados no formato para o algoritmo receber.\n",
    "\n",
    "A validação cruzada ou cross-validation é uma técnica no qual o avaliamos se o modelo generaliza, ou seja, se o modelo tem uma boa performance com diferentes amostras, sem overfitting."
   ]
  },
  {
   "cell_type": "code",
   "execution_count": 105,
   "id": "c655b633",
   "metadata": {},
   "outputs": [],
   "source": [
    "# transformando os dados\n",
    "X_train_array = X_train.values\n",
    "X_val_array = X_val.values\n",
    "y_train_array = y_train.values\n",
    "y_val_array = y_val.values"
   ]
  },
  {
   "cell_type": "markdown",
   "id": "2ecfc3be",
   "metadata": {},
   "source": [
    "Vou criar uma lista com alguns hiperparâmetros para que seja selecionado quais são os melhores para o modelo."
   ]
  },
  {
   "cell_type": "code",
   "execution_count": 106,
   "id": "f61ec40b",
   "metadata": {},
   "outputs": [
    {
     "name": "stdout",
     "output_type": "stream",
     "text": [
      "{'n_estimators': [3, 5, 10, 100], 'max_features': [3, 4, 5, 6, None], 'max_depth': [3, 4, 5, 6, None], 'class_weight': ['balanced', None]}\n"
     ]
    }
   ],
   "source": [
    "# número de árvores\n",
    "n_estimators = [3,5,10,100]\n",
    "\n",
    "# número de features para considerar em cada split\n",
    "max_features = [3,4,5,6,None]\n",
    "\n",
    "# número máximo de níveis da árvore\n",
    "max_depth = [3,4,5,6,None]\n",
    "\n",
    "# pesos para cada classe\n",
    "class_weight = ['balanced',None]\n",
    "\n",
    "# colocando os parametros definidos em um dicionário\n",
    "random_grid = {'n_estimators': n_estimators,\n",
    "               'max_features': max_features,\n",
    "               'max_depth': max_depth,\n",
    "               'class_weight': class_weight}\n",
    "\n",
    "# exibindo os parâmetros\n",
    "print(random_grid)"
   ]
  },
  {
   "cell_type": "markdown",
   "id": "89f2fa3e",
   "metadata": {},
   "source": [
    "Agora vamos criar nossa validação cruzada, com o pipeline para o método selecionado e rodar a validação cruzada com o Random Forest.\n",
    "\n",
    "Utilizaremos o RandomizedSearchCV para não fazer com todas as combinações possíveis em função do tempo que poderá ser muito alto e alguns artigos dizem que o RandomizedSearchCV é tão eficaz quanto o GridSearchCV.\n",
    "\n",
    "No loop é utilizado o StratifiedKFold para separar o conjunto de dados mantendo a proporção entre as classes, a cada loop para diferentes amostras é executado o pipeline para aquela amostra específica e em seguida armazenado na lista vazia criada para receber os resultados que no fim será avaliado pela média desses valores."
   ]
  },
  {
   "cell_type": "code",
   "execution_count": 107,
   "id": "052ff061",
   "metadata": {},
   "outputs": [],
   "source": [
    "from sklearn.model_selection import RandomizedSearchCV\n",
    "import time\n",
    "from imblearn.pipeline import make_pipeline as imbalanced_make_pipeline\n",
    "from sklearn.metrics import roc_auc_score\n",
    "import numpy as np"
   ]
  },
  {
   "cell_type": "markdown",
   "id": "9c260dae",
   "metadata": {},
   "source": [
    "Primeiro, com Random Over-Sampling"
   ]
  },
  {
   "cell_type": "code",
   "execution_count": 108,
   "id": "59ac77d4",
   "metadata": {},
   "outputs": [
    {
     "name": "stdout",
     "output_type": "stream",
     "text": [
      "kfold nº: 1\n",
      "tempo intermediário: 6.6 minutos\n",
      "\n",
      "kfold nº: 2\n",
      "tempo intermediário: 14.0 minutos\n",
      "\n",
      "kfold nº: 3\n",
      "tempo intermediário: 21.2 minutos\n",
      "\n",
      "kfold nº: 4\n",
      "tempo intermediário: 28.5 minutos\n",
      "\n",
      "kfold nº: 5\n",
      "tempo intermediário: 36.5 minutos\n",
      "\n",
      "------------------------------------------------------------\n",
      "melhores estimadores para RF: {'n_estimators': 100, 'max_features': 6, 'max_depth': None, 'class_weight': 'balanced'}\n",
      "------------------------------------------------------------\n",
      "Resultados\n",
      "accuracy:  0.9882485777983598\n",
      "precision: 0.4541161704000273\n",
      "recall:    0.5369669040636783\n",
      "f1:        0.4914843227731732\n",
      "AUC:       0.7650273054336822\n",
      "------------------------------------------------------------\n",
      "Tempo do loop para validação cruzada: 36.5 minutos\n"
     ]
    }
   ],
   "source": [
    "# definindo listas vazias para receber os resultados da validação cruzada\n",
    "accuracy_lst_os = []\n",
    "precision_lst_os = []\n",
    "recall_lst_os = []\n",
    "f1_lst_os = []\n",
    "auc_lst_os = []\n",
    "\n",
    "# instanciando o RandomizedSearchCV para validação cruzada com o grid de parametros\n",
    "rf_grid = RandomizedSearchCV(RandomForestClassifier(), random_grid, random_state=42)\n",
    "\n",
    "# iniciando o tempo e contador para o loop\n",
    "start = time.time()\n",
    "count = 0\n",
    "\n",
    "# looping para a validação cruzada\n",
    "for train, test in StratifKfold.split(X_train_array, y_train_array):\n",
    "    \n",
    "    # instanciando o pipeline com técnica de reamostragem\n",
    "    pipeline_os = imbalanced_make_pipeline(RandomOverSampler(sampling_strategy='minority'), rf_grid)\n",
    "    \n",
    "    # executando o pipeline para treinar o modelo\n",
    "    model_os = pipeline_os.fit(X_train_array[train], y_train_array[train])\n",
    "    \n",
    "    # identificando os melhores parâmetros no treinamento\n",
    "    best_est_os = rf_grid.best_estimator_\n",
    "    \n",
    "    # realizando as previsões com o resultado do treinamento\n",
    "    prediction_os = best_est_os.predict(X_train_array[test])\n",
    "    \n",
    "    # armazenando os resultados\n",
    "    accuracy_lst_os.append(pipeline_os.score(X_train_array[test], y_train_array[test]))    \n",
    "    precision_lst_os.append(precision_score(y_train_array[test], prediction_os))\n",
    "    recall_lst_os.append(recall_score(y_train_array[test], prediction_os)) \n",
    "    f1_lst_os.append(f1_score(y_train_array[test], prediction_os))  \n",
    "    auc_lst_os.append(roc_auc_score(y_train_array[test], prediction_os))\n",
    "\n",
    "    # identificando em qual loop está\n",
    "    count = count + 1\n",
    "    print(f\"kfold nº: {count}\")\n",
    "    \n",
    "    # medindo o tempo de cada loop\n",
    "    intervalo = time.time()\n",
    "    print(f\"tempo intermediário: {(intervalo - start)/60:.1f} minutos\")\n",
    "    print()\n",
    "\n",
    "print('---' * 20)\n",
    "print(f\"melhores estimadores para RF: {rf_grid.best_params_}\")\n",
    "\n",
    "# imprimindo a média dos resultados da validação cruzada\n",
    "print('---' * 20)\n",
    "print('Resultados')\n",
    "print(f\"accuracy:  {np.mean(accuracy_lst_os)}\")\n",
    "print(f\"precision: {np.mean(precision_lst_os)}\")\n",
    "print(f\"recall:    {np.mean(recall_lst_os)}\")\n",
    "print(f\"f1:        {np.mean(f1_lst_os)}\")\n",
    "print(f\"AUC:       {np.mean(auc_lst_os)}\")\n",
    "print('---' * 20)\n",
    "\n",
    "# imprimindo o tempo total da validação cruzada\n",
    "end = time.time()\n",
    "print(f\"Tempo do loop para validação cruzada: {(end - start)/60:.1f} minutos\")"
   ]
  },
  {
   "cell_type": "markdown",
   "id": "7413758a",
   "metadata": {},
   "source": [
    "Random Forest com SMOTE"
   ]
  },
  {
   "cell_type": "code",
   "execution_count": 109,
   "id": "10dbbe81",
   "metadata": {},
   "outputs": [
    {
     "name": "stdout",
     "output_type": "stream",
     "text": [
      "kfold nº: 1\n",
      "tempo intermediário: 15.1 minutos\n",
      "\n",
      "kfold nº: 2\n",
      "tempo intermediário: 27.6 minutos\n",
      "\n",
      "kfold nº: 3\n",
      "tempo intermediário: 42.6 minutos\n",
      "\n",
      "kfold nº: 4\n",
      "tempo intermediário: 55.7 minutos\n",
      "\n",
      "kfold nº: 5\n",
      "tempo intermediário: 68.3 minutos\n",
      "\n",
      "------------------------------------------------------------\n",
      "melhores estimadores para RF: {'n_estimators': 100, 'max_features': 6, 'max_depth': None, 'class_weight': 'balanced'}\n",
      "------------------------------------------------------------\n",
      "Resultados\n",
      "accuracy:  0.9881247510966658\n",
      "precision: 0.44926897738567567\n",
      "recall:    0.5136489317134478\n",
      "f1:        0.4790931416278652\n",
      "AUC:       0.7534309192410233\n",
      "------------------------------------------------------------\n",
      "Tempo do loop para validação cruzada: 68.3 minutos\n"
     ]
    }
   ],
   "source": [
    "accuracy_lst_sm = []\n",
    "precision_lst_sm = []\n",
    "recall_lst_sm = []\n",
    "f1_lst_sm = []\n",
    "auc_lst_sm = []\n",
    "\n",
    "# instanciando o RandomizedSearchCV para validação cruzada com o grid de parametros\n",
    "rf_grid_sm = RandomizedSearchCV(RandomForestClassifier(), random_grid, random_state=42)\n",
    "\n",
    "# iniciando o tempo e contador para o loop\n",
    "start = time.time()\n",
    "count = 0\n",
    "\n",
    "# looping para a validação cruzada\n",
    "for train, test in StratifKfold.split(X_train_array, y_train_array):\n",
    "    \n",
    "    # instanciando o pipeline com técnica de reamostragem\n",
    "    pipeline_sm = imbalanced_make_pipeline(SMOTE(sampling_strategy='minority'), rf_grid_sm)\n",
    "    \n",
    "    # executando o pipeline para treinar o modelo\n",
    "    model_sm = pipeline_sm.fit(X_train_array[train], y_train_array[train])\n",
    "    \n",
    "    # identificando os melhores parâmetros no treinamento\n",
    "    best_est_sm = rf_grid_sm.best_estimator_\n",
    "    \n",
    "    # realizando as previsões com o resultado do treinamento\n",
    "    prediction_sm = best_est_sm.predict(X_train_array[test])\n",
    "    \n",
    "    # armazenando os resultados\n",
    "    accuracy_lst_sm.append(pipeline_sm.score(X_train_array[test], y_train_array[test]))\n",
    "    precision_lst_sm.append(precision_score(y_train_array[test], prediction_sm))\n",
    "    recall_lst_sm.append(recall_score(y_train_array[test], prediction_sm))\n",
    "    f1_lst_sm.append(f1_score(y_train_array[test], prediction_sm))\n",
    "    auc_lst_sm.append(roc_auc_score(y_train_array[test], prediction_sm))\n",
    "    \n",
    "    # identificando em qual loop está\n",
    "    count = count + 1\n",
    "    print(f\"kfold nº: {count}\")\n",
    "    \n",
    "    # medindo o tempo de cada loop\n",
    "    intervalo = time.time()\n",
    "    print(f\"tempo intermediário: {(intervalo - start)/60:.1f} minutos\")\n",
    "    print()\n",
    "\n",
    "print('---' * 20)\n",
    "print(f\"melhores estimadores para RF: {rf_grid_sm.best_params_}\")\n",
    "\n",
    "# imprimindo a média dos resultados da validação cruzada\n",
    "print('---' * 20)\n",
    "print('Resultados')\n",
    "print(f\"accuracy:  {np.mean(accuracy_lst_sm)}\")\n",
    "print(f\"precision: {np.mean(precision_lst_sm)}\")\n",
    "print(f\"recall:    {np.mean(recall_lst_sm)}\")\n",
    "print(f\"f1:        {np.mean(f1_lst_sm)}\")\n",
    "print(f\"AUC:       {np.mean(auc_lst_sm)}\")\n",
    "print('---' * 20)\n",
    "\n",
    "# imprimindo o tempo total da validação cruzada\n",
    "end = time.time()\n",
    "print(f\"Tempo do loop para validação cruzada: {(end - start)/60:.1f} minutos\")"
   ]
  },
  {
   "cell_type": "markdown",
   "id": "a77665f7",
   "metadata": {},
   "source": [
    "### Avaliação"
   ]
  },
  {
   "cell_type": "markdown",
   "id": "60c3c686",
   "metadata": {},
   "source": [
    "Random Forest com OverSampling:\n",
    "\n",
    "* accuracy:  0.9882485777983598\n",
    "* precision: 0.4541161704000273\n",
    "* recall:    0.5369669040636783\n",
    "* f1:        0.4914843227731732\n",
    "* AUC:       0.7650273054336822\n",
    "\n",
    "Enquanto Random Forest com SMOTE:\n",
    "\n",
    "* accuracy:  0.9881247510966658\n",
    "* precision: 0.44926897738567567\n",
    "* recall:    0.5136489317134478\n",
    "* f1:        0.4790931416278652\n",
    "* AUC:       0.7534309192410233\n",
    "\n",
    "Como Random Forest com OverSampling performou melhor, escolherei esse modelo."
   ]
  },
  {
   "cell_type": "markdown",
   "id": "fea2749c",
   "metadata": {},
   "source": [
    "## Curva ROC-AUC\n",
    "\n",
    "A curva ROC-AUC (Receiver Operating Characteristic - Area Under the Curve) é uma representação gráfica do desempenho de um modelo de classificação binária.\n",
    "\n",
    "A AUC (área sob a curva ROC)  varia de 0 a 1, onde um valor de 1 indica um modelo perfeito que é capaz de distinguir perfeitamente entre as classes positiva e negativa.\n",
    "\n",
    "O Curva ROC possui dois parâmetros:\n",
    "\n",
    "Taxa de verdadeiro positivo (True Positive Rate ou TPR), que é dado por TP/(TP + FN)\n",
    "Taxa de falso positivo (False Positive Rate ou FPR), que é dado por FP/(FP + TN)\n",
    "\n",
    "Uma curva ROC-AUC próxima a 1 (quanto mais superior à esquerda o valor) indica um modelo com bom desempenho, pois possui uma alta taxa de verdadeiros positivos e uma baixa taxa de falsos positivos. Por outro lado, uma curva ROC-AUC próxima a 0.5 indica um modelo com desempenho ruim, onde a classificação é semelhante a uma escolha aleatória."
   ]
  },
  {
   "cell_type": "markdown",
   "id": "03977aeb",
   "metadata": {},
   "source": [
    "Agora, veremos se o modelo escolhido tem um bom desempenho criando uma função para fazermos uma validação cruzada plotando o resultado de cada um dos splits e por fim a média do resultado."
   ]
  },
  {
   "cell_type": "code",
   "execution_count": 110,
   "id": "e20aec17",
   "metadata": {},
   "outputs": [],
   "source": [
    "from sklearn.metrics import roc_curve, auc\n",
    "from scipy import interp"
   ]
  },
  {
   "cell_type": "code",
   "execution_count": 111,
   "id": "8e044aa1",
   "metadata": {},
   "outputs": [
    {
     "data": {
      "image/png": "[encoded data removed]",
      "text/plain": [
       "<Figure size 432x288 with 1 Axes>"
      ]
     },
     "metadata": {
      "needs_background": "light"
     },
     "output_type": "display_data"
    }
   ],
   "source": [
    "# criando uma função para plotar o gráfico\n",
    "def draw_cv_roc_curve(classifier, cv, X, y, title='ROC Curve'):\n",
    "    # definindo algumas listas vazias para receber o resultado\n",
    "    tprs = []\n",
    "    aucs = []\n",
    "    mean_fpr = np.linspace(0, 1, 100)\n",
    "    \n",
    "    # definindo o contador\n",
    "    i = 0\n",
    "    \n",
    "    # loop ara validação cruzada\n",
    "    for train, test in cv.split(X, y):\n",
    "        \n",
    "        # executando a função e armazenando as probabilidade dos resultados\n",
    "        probas_ = classifier.fit(X.iloc[train], y.iloc[train]).predict_proba(X.iloc[test])\n",
    "        \n",
    "        # computando a curva ROC e AUC\n",
    "        fpr, tpr, thresholds = roc_curve(y.iloc[test], probas_[:, 1])\n",
    "        tprs.append(interp(mean_fpr, fpr, tpr))\n",
    "        tprs[-1][0] = 0.0\n",
    "        roc_auc = auc(fpr, tpr)\n",
    "        aucs.append(roc_auc)\n",
    "        \n",
    "        # plotando a curva ROC da validação cruzada em individualmente\n",
    "        plt.plot(fpr, tpr, lw=1, alpha=0.3,\n",
    "                 label='ROC fold %d (AUC = %0.2f)' % (i, roc_auc))\n",
    "\n",
    "        i += 1\n",
    "    \n",
    "    # plotando a linha diagonal como referência da taxa de 50/50\n",
    "    plt.plot([0, 1], [0, 1], linestyle='--', lw=2, color='r',\n",
    "             label='Luck', alpha=.8)\n",
    "\n",
    "    # calculando as médias e desvio padrão\n",
    "    mean_tpr = np.mean(tprs, axis=0)\n",
    "    mean_tpr[-1] = 1.0\n",
    "    mean_auc = auc(mean_fpr, mean_tpr)\n",
    "    std_auc = np.std(aucs)\n",
    "    \n",
    "    # plotando curva ROC com a média dos resultados\n",
    "    plt.plot(mean_fpr, mean_tpr, color='b',\n",
    "             label=r'Mean ROC (AUC = %0.2f $\\pm$ %0.2f)' % (mean_auc, std_auc),\n",
    "             lw=2, alpha=.8)\n",
    "\n",
    "    std_tpr = np.std(tprs, axis=0)\n",
    "    tprs_upper = np.minimum(mean_tpr + std_tpr, 1)\n",
    "    tprs_lower = np.maximum(mean_tpr - std_tpr, 0)\n",
    "    plt.fill_between(mean_fpr, tprs_lower, tprs_upper, color='grey', alpha=.2,\n",
    "                     label=r'$\\pm$ 1 std. dev.')\n",
    "    \n",
    "    # customizando o gráfico\n",
    "    plt.xlim([-0.05, 1.05])\n",
    "    plt.ylim([-0.05, 1.05])\n",
    "    plt.xlabel('False Positive Rate', fontsize=12)\n",
    "    plt.ylabel('True Positive Rate', fontsize=12)\n",
    "    plt.title(title)\n",
    "    plt.legend(loc=\"lower right\")\n",
    "    \n",
    "    # exibindo o gráfico\n",
    "    plt.show()\n",
    "    \n",
    "# executando função e plotando a Curva ROC AUC\n",
    "draw_cv_roc_curve(best_est_os, StratifKfold, X_train, y_train, title='ROC Curve')"
   ]
  },
  {
   "cell_type": "markdown",
   "id": "26f556cb",
   "metadata": {},
   "source": [
    "Pela média dos KFolds, 0.84 nos mostra que o modelo está com uma boa taxa de acertividade."
   ]
  },
  {
   "cell_type": "markdown",
   "id": "36c49ff9",
   "metadata": {},
   "source": [
    "## Modelo final\n",
    "\n",
    "Hora de testar o modelo! Utilizarei a base de teste aplicando Random Forest com o método de balanceamento OverSampling."
   ]
  },
  {
   "cell_type": "markdown",
   "id": "14a5d0bf",
   "metadata": {},
   "source": [
    "Treinaremos o modelo com os melhores hiperparâmetros encontrados, executaremos o pipeline com o Oversampling e Random Forest ajustada e por fim, o modelo será treinado."
   ]
  },
  {
   "cell_type": "code",
   "execution_count": 112,
   "id": "6353a809",
   "metadata": {},
   "outputs": [],
   "source": [
    "# separando novamente os dados\n",
    "X_all = df_train.drop('popularity', axis=1)\n",
    "y_all = df_train.popularity"
   ]
  },
  {
   "cell_type": "code",
   "execution_count": 113,
   "id": "538b3aa0",
   "metadata": {},
   "outputs": [],
   "source": [
    "# instanciando o modelo final com os parametros encontrados na validação cruzada\n",
    "final_model = rf_grid.best_estimator_\n",
    "\n",
    "# definindo o pipeline para reamostragem oversampling e o modelo final\n",
    "pipeline = imbalanced_make_pipeline(RandomOverSampler(sampling_strategy='minority'), final_model)\n",
    "\n",
    "# treinando o modelo com os parametros ajustados com todos os dados\n",
    "model = pipeline.fit(X_all, y_all)"
   ]
  },
  {
   "cell_type": "code",
   "execution_count": 114,
   "id": "573eb3f2",
   "metadata": {},
   "outputs": [
    {
     "data": {
      "text/plain": [
       "('randomforestclassifier',\n",
       " RandomForestClassifier(class_weight='balanced', max_features=6))"
      ]
     },
     "execution_count": 114,
     "metadata": {},
     "output_type": "execute_result"
    }
   ],
   "source": [
    "model.steps[1]"
   ]
  },
  {
   "cell_type": "code",
   "execution_count": 115,
   "id": "0b27e08e",
   "metadata": {},
   "outputs": [],
   "source": [
    "lista = model.steps[1][1].feature_importances_"
   ]
  },
  {
   "cell_type": "code",
   "execution_count": 116,
   "id": "fba1a670",
   "metadata": {},
   "outputs": [
    {
     "name": "stdout",
     "output_type": "stream",
     "text": [
      "[0.0860283630310701, 0.09394350265157952, 0.11729187055919076, 0.03283360031317626, 0.12025534415693936, 0.006079491167922194, 0.08113415205090549, 0.1119595285325955, 0.10689305789931332, 0.07845848766510918, 0.0890699311123539, 0.07176792802416972, 0.004284742835674604]\n"
     ]
    }
   ],
   "source": [
    "print(lista.tolist())"
   ]
  },
  {
   "cell_type": "code",
   "execution_count": 117,
   "id": "7012e0bf",
   "metadata": {},
   "outputs": [
    {
     "data": {
      "image/png": "[encoded data removed]",
      "text/plain": [
       "<Figure size 432x288 with 1 Axes>"
      ]
     },
     "metadata": {
      "needs_background": "light"
     },
     "output_type": "display_data"
    }
   ],
   "source": [
    "# lista de nomes\n",
    "nomes = df_quant.columns\n",
    "\n",
    "plt.barh(df_quant.drop(columns=['popularity']).columns.tolist(), lista.tolist())\n",
    "\n",
    "plt.show()"
   ]
  },
  {
   "cell_type": "markdown",
   "id": "d8236a32",
   "metadata": {},
   "source": [
    "``loudness`` e ``energy`` possuem um alto coeficiente de importância no modelo. Porém, como vimos lá no começo, essas duas features possuem alta correlação. Talvez seja interessante voltar na etapa de pré-processamento de dados para eliminar a alta correlação."
   ]
  },
  {
   "cell_type": "markdown",
   "id": "de4c4799",
   "metadata": {},
   "source": [
    "### Preparação, previsão e avaliação nos dados de teste\n",
    "\n",
    "Aqui, utiliza-se o conjunto de dados de teste, que foi dividido no início, com 20% do total dos dados.\n",
    "\n",
    "Além disso, os dados foram separados e simulou-se a entrada de dados novos para saber se o nosso modelo generaliza bem, o esperado é um resultado um pouco abaixo do que foi validado. Caso fique muito abaixo do esperado, é necessário reajustar o modelo porque resultou em overfitting."
   ]
  },
  {
   "cell_type": "code",
   "execution_count": 119,
   "id": "1d3fb387",
   "metadata": {},
   "outputs": [
    {
     "name": "stdout",
     "output_type": "stream",
     "text": [
      "accuracy:  0.9878907970057244\n",
      "precision: 0.4481865284974093\n",
      "recall:    0.7361702127659574\n",
      "f1:        0.5571658615136876\n"
     ]
    }
   ],
   "source": [
    "# separando os dados de teste\n",
    "X_test = df_test.drop('popularity', axis=1)\n",
    "y_test = df_test.popularity\n",
    "\n",
    "# realizando as predições nos dados de teste\n",
    "y_pred_test = model.predict(X_test)\n",
    "\n",
    "# imprimindo os resultados\n",
    "print(f\"accuracy:  {accuracy_score(y_test, y_pred_test)}\")\n",
    "print(f\"precision: {precision_score(y_test, y_pred_test)}\")\n",
    "print(f\"recall:    {recall_score(y_test, y_pred_test)}\")\n",
    "print(f\"f1:        {f1_score(y_test, y_pred_test)}\")"
   ]
  },
  {
   "cell_type": "code",
   "execution_count": 120,
   "id": "afa05394",
   "metadata": {},
   "outputs": [
    {
     "data": {
      "image/png": "[encoded data removed]",
      "text/plain": [
       "<Figure size 360x360 with 2 Axes>"
      ]
     },
     "metadata": {
      "needs_background": "light"
     },
     "output_type": "display_data"
    }
   ],
   "source": [
    "plt.figure(figsize=(5,5))\n",
    "sns.heatmap(confusion_matrix(y_test, y_pred_test), annot=True, fmt=\"d\", cmap=\"Blues\")\n",
    "plt.title(\"Matriz de Confusão\", fontsize=16, fontweight='bold')\n",
    "plt.show()"
   ]
  },
  {
   "cell_type": "code",
   "execution_count": 121,
   "id": "501eb56d",
   "metadata": {},
   "outputs": [
    {
     "data": {
      "text/html": [
       "<div>\n",
       "<style scoped>\n",
       "    .dataframe tbody tr th:only-of-type {\n",
       "        vertical-align: middle;\n",
       "    }\n",
       "\n",
       "    .dataframe tbody tr th {\n",
       "        vertical-align: top;\n",
       "    }\n",
       "\n",
       "    .dataframe thead th {\n",
       "        text-align: right;\n",
       "    }\n",
       "</style>\n",
       "<table border=\"1\" class=\"dataframe\">\n",
       "  <thead>\n",
       "    <tr style=\"text-align: right;\">\n",
       "      <th></th>\n",
       "      <th>accuracy</th>\n",
       "      <th>precision</th>\n",
       "      <th>recall</th>\n",
       "      <th>f1</th>\n",
       "    </tr>\n",
       "  </thead>\n",
       "  <tbody>\n",
       "    <tr>\n",
       "      <th>Baseline</th>\n",
       "      <td>0.989377</td>\n",
       "      <td>0.000000</td>\n",
       "      <td>0.000000</td>\n",
       "      <td>0.000000</td>\n",
       "    </tr>\n",
       "    <tr>\n",
       "      <th>Validação</th>\n",
       "      <td>0.988249</td>\n",
       "      <td>0.454116</td>\n",
       "      <td>0.536967</td>\n",
       "      <td>0.491484</td>\n",
       "    </tr>\n",
       "    <tr>\n",
       "      <th>Teste</th>\n",
       "      <td>0.987891</td>\n",
       "      <td>0.448187</td>\n",
       "      <td>0.736170</td>\n",
       "      <td>0.557166</td>\n",
       "    </tr>\n",
       "  </tbody>\n",
       "</table>\n",
       "</div>"
      ],
      "text/plain": [
       "           accuracy  precision    recall        f1\n",
       "Baseline   0.989377   0.000000  0.000000  0.000000\n",
       "Validação  0.988249   0.454116  0.536967  0.491484\n",
       "Teste      0.987891   0.448187  0.736170  0.557166"
      ]
     },
     "execution_count": 121,
     "metadata": {},
     "output_type": "execute_result"
    }
   ],
   "source": [
    "pd.DataFrame(index=['Baseline', 'Validação', 'Teste'], \n",
    "             data = {\"accuracy\": [accuracy_score(y_val, y_pred_base_val), np.mean(accuracy_lst_os), accuracy_score(y_test, y_pred_test)], \n",
    "                     \"precision\": [precision_score(y_val, y_pred_base_val), np.mean(precision_lst_os), precision_score(y_test, y_pred_test)],\n",
    "                     \"recall\": [recall_score(y_val, y_pred_base_val), np.mean(recall_lst_os), recall_score(y_test, y_pred_test)],\n",
    "                     \"f1\": [f1_score(y_val, y_pred_base_val), np.mean(f1_lst_os), f1_score(y_test, y_pred_test)]}\n",
    "            )"
   ]
  },
  {
   "cell_type": "markdown",
   "id": "32cf3484",
   "metadata": {},
   "source": [
    "### Salvando o resultado"
   ]
  },
  {
   "cell_type": "code",
   "execution_count": 122,
   "id": "3ea8eb2b",
   "metadata": {},
   "outputs": [],
   "source": [
    "import pickle\n",
    "import os"
   ]
  },
  {
   "cell_type": "code",
   "execution_count": 123,
   "id": "fcdc4866",
   "metadata": {},
   "outputs": [],
   "source": [
    "# Nome da pasta para salvar o modelo\n",
    "folder_name = \"meu_modelo_spotify_popular\""
   ]
  },
  {
   "cell_type": "code",
   "execution_count": 124,
   "id": "ec62ac66",
   "metadata": {},
   "outputs": [],
   "source": [
    "# Criando a pasta\n",
    "if not os.path.exists(folder_name):\n",
    "    os.makedirs(folder_name)"
   ]
  },
  {
   "cell_type": "code",
   "execution_count": 125,
   "id": "d95f6bd3",
   "metadata": {},
   "outputs": [],
   "source": [
    "# Caminho do arquivo do modelo\n",
    "pkl_filename_model = os.path.join(folder_name, \"RandomForestModel.pkl\")"
   ]
  },
  {
   "cell_type": "code",
   "execution_count": 126,
   "id": "42a5443d",
   "metadata": {},
   "outputs": [],
   "source": [
    "with open(pkl_filename_model, 'wb') as file:\n",
    "    pickle.dump(model, file)"
   ]
  },
  {
   "cell_type": "markdown",
   "id": "5ccb22a4",
   "metadata": {},
   "source": [
    "### Visualizando"
   ]
  },
  {
   "cell_type": "code",
   "execution_count": 127,
   "id": "5d064fda",
   "metadata": {},
   "outputs": [],
   "source": [
    "# armazenando as previsões no dataframe de teste\n",
    "df_test['Predicted'] = y_pred_test\n",
    "\n",
    "# comparando com real com o previsto no dataframe\n",
    "df_test['Correct?'] = np.where(df_test['popularity'] == df_test['Predicted'], 'Yes', 'No')"
   ]
  },
  {
   "cell_type": "code",
   "execution_count": 128,
   "id": "f419d18b",
   "metadata": {},
   "outputs": [
    {
     "data": {
      "text/html": [
       "<div>\n",
       "<style scoped>\n",
       "    .dataframe tbody tr th:only-of-type {\n",
       "        vertical-align: middle;\n",
       "    }\n",
       "\n",
       "    .dataframe tbody tr th {\n",
       "        vertical-align: top;\n",
       "    }\n",
       "\n",
       "    .dataframe thead th {\n",
       "        text-align: right;\n",
       "    }\n",
       "</style>\n",
       "<table border=\"1\" class=\"dataframe\">\n",
       "  <thead>\n",
       "    <tr style=\"text-align: right;\">\n",
       "      <th></th>\n",
       "      <th>popularity</th>\n",
       "      <th>duration_ms</th>\n",
       "      <th>danceability</th>\n",
       "      <th>energy</th>\n",
       "      <th>key</th>\n",
       "      <th>loudness</th>\n",
       "      <th>mode</th>\n",
       "      <th>speechiness</th>\n",
       "      <th>acousticness</th>\n",
       "      <th>instrumentalness</th>\n",
       "      <th>liveness</th>\n",
       "      <th>valence</th>\n",
       "      <th>tempo</th>\n",
       "      <th>time_signature</th>\n",
       "      <th>Predicted</th>\n",
       "      <th>Correct?</th>\n",
       "    </tr>\n",
       "  </thead>\n",
       "  <tbody>\n",
       "    <tr>\n",
       "      <th>47730</th>\n",
       "      <td>0.0</td>\n",
       "      <td>0.031826</td>\n",
       "      <td>0.437563</td>\n",
       "      <td>0.768</td>\n",
       "      <td>1.000000</td>\n",
       "      <td>0.785491</td>\n",
       "      <td>0.0</td>\n",
       "      <td>0.039896</td>\n",
       "      <td>0.000088</td>\n",
       "      <td>0.001220</td>\n",
       "      <td>0.113</td>\n",
       "      <td>0.662312</td>\n",
       "      <td>0.337475</td>\n",
       "      <td>0.8</td>\n",
       "      <td>0.0</td>\n",
       "      <td>Yes</td>\n",
       "    </tr>\n",
       "    <tr>\n",
       "      <th>96769</th>\n",
       "      <td>0.0</td>\n",
       "      <td>0.020123</td>\n",
       "      <td>0.661929</td>\n",
       "      <td>0.701</td>\n",
       "      <td>0.181818</td>\n",
       "      <td>0.764904</td>\n",
       "      <td>1.0</td>\n",
       "      <td>0.036062</td>\n",
       "      <td>0.534137</td>\n",
       "      <td>0.000002</td>\n",
       "      <td>0.602</td>\n",
       "      <td>0.932663</td>\n",
       "      <td>0.649721</td>\n",
       "      <td>0.8</td>\n",
       "      <td>0.0</td>\n",
       "      <td>Yes</td>\n",
       "    </tr>\n",
       "    <tr>\n",
       "      <th>6993</th>\n",
       "      <td>0.0</td>\n",
       "      <td>0.033587</td>\n",
       "      <td>0.581726</td>\n",
       "      <td>0.976</td>\n",
       "      <td>0.090909</td>\n",
       "      <td>0.842110</td>\n",
       "      <td>0.0</td>\n",
       "      <td>0.185492</td>\n",
       "      <td>0.000046</td>\n",
       "      <td>0.022200</td>\n",
       "      <td>0.272</td>\n",
       "      <td>0.316583</td>\n",
       "      <td>0.468501</td>\n",
       "      <td>0.8</td>\n",
       "      <td>0.0</td>\n",
       "      <td>Yes</td>\n",
       "    </tr>\n",
       "    <tr>\n",
       "      <th>92786</th>\n",
       "      <td>0.0</td>\n",
       "      <td>0.040329</td>\n",
       "      <td>0.602030</td>\n",
       "      <td>0.614</td>\n",
       "      <td>0.727273</td>\n",
       "      <td>0.784215</td>\n",
       "      <td>0.0</td>\n",
       "      <td>0.031399</td>\n",
       "      <td>0.661647</td>\n",
       "      <td>0.013500</td>\n",
       "      <td>0.369</td>\n",
       "      <td>0.533668</td>\n",
       "      <td>0.335113</td>\n",
       "      <td>0.8</td>\n",
       "      <td>0.0</td>\n",
       "      <td>Yes</td>\n",
       "    </tr>\n",
       "    <tr>\n",
       "      <th>61286</th>\n",
       "      <td>0.0</td>\n",
       "      <td>0.050744</td>\n",
       "      <td>0.543147</td>\n",
       "      <td>0.685</td>\n",
       "      <td>0.090909</td>\n",
       "      <td>0.825537</td>\n",
       "      <td>0.0</td>\n",
       "      <td>0.031088</td>\n",
       "      <td>0.555221</td>\n",
       "      <td>0.000000</td>\n",
       "      <td>0.199</td>\n",
       "      <td>0.213065</td>\n",
       "      <td>0.328748</td>\n",
       "      <td>0.8</td>\n",
       "      <td>0.0</td>\n",
       "      <td>Yes</td>\n",
       "    </tr>\n",
       "  </tbody>\n",
       "</table>\n",
       "</div>"
      ],
      "text/plain": [
       "       popularity  duration_ms  danceability  energy       key  loudness  \\\n",
       "47730         0.0     0.031826      0.437563   0.768  1.000000  0.785491   \n",
       "96769         0.0     0.020123      0.661929   0.701  0.181818  0.764904   \n",
       "6993          0.0     0.033587      0.581726   0.976  0.090909  0.842110   \n",
       "92786         0.0     0.040329      0.602030   0.614  0.727273  0.784215   \n",
       "61286         0.0     0.050744      0.543147   0.685  0.090909  0.825537   \n",
       "\n",
       "       mode  speechiness  acousticness  instrumentalness  liveness   valence  \\\n",
       "47730   0.0     0.039896      0.000088          0.001220     0.113  0.662312   \n",
       "96769   1.0     0.036062      0.534137          0.000002     0.602  0.932663   \n",
       "6993    0.0     0.185492      0.000046          0.022200     0.272  0.316583   \n",
       "92786   0.0     0.031399      0.661647          0.013500     0.369  0.533668   \n",
       "61286   0.0     0.031088      0.555221          0.000000     0.199  0.213065   \n",
       "\n",
       "          tempo  time_signature  Predicted Correct?  \n",
       "47730  0.337475             0.8        0.0      Yes  \n",
       "96769  0.649721             0.8        0.0      Yes  \n",
       "6993   0.468501             0.8        0.0      Yes  \n",
       "92786  0.335113             0.8        0.0      Yes  \n",
       "61286  0.328748             0.8        0.0      Yes  "
      ]
     },
     "execution_count": 128,
     "metadata": {},
     "output_type": "execute_result"
    }
   ],
   "source": [
    "df_test.head()"
   ]
  },
  {
   "cell_type": "code",
   "execution_count": 129,
   "id": "6a8bbd21",
   "metadata": {},
   "outputs": [
    {
     "data": {
      "text/html": [
       "<div>\n",
       "<style scoped>\n",
       "    .dataframe tbody tr th:only-of-type {\n",
       "        vertical-align: middle;\n",
       "    }\n",
       "\n",
       "    .dataframe tbody tr th {\n",
       "        vertical-align: top;\n",
       "    }\n",
       "\n",
       "    .dataframe thead th {\n",
       "        text-align: right;\n",
       "    }\n",
       "</style>\n",
       "<table border=\"1\" class=\"dataframe\">\n",
       "  <thead>\n",
       "    <tr style=\"text-align: right;\">\n",
       "      <th></th>\n",
       "      <th>popularity</th>\n",
       "      <th>duration_ms</th>\n",
       "      <th>danceability</th>\n",
       "      <th>energy</th>\n",
       "      <th>key</th>\n",
       "      <th>loudness</th>\n",
       "      <th>mode</th>\n",
       "      <th>speechiness</th>\n",
       "      <th>acousticness</th>\n",
       "      <th>instrumentalness</th>\n",
       "      <th>liveness</th>\n",
       "      <th>valence</th>\n",
       "      <th>tempo</th>\n",
       "      <th>time_signature</th>\n",
       "      <th>Predicted</th>\n",
       "      <th>Correct?</th>\n",
       "    </tr>\n",
       "  </thead>\n",
       "  <tbody>\n",
       "    <tr>\n",
       "      <th>51015</th>\n",
       "      <td>1.0</td>\n",
       "      <td>0.021172</td>\n",
       "      <td>0.601015</td>\n",
       "      <td>0.457</td>\n",
       "      <td>0.818182</td>\n",
       "      <td>0.803692</td>\n",
       "      <td>0.0</td>\n",
       "      <td>0.062487</td>\n",
       "      <td>0.663655</td>\n",
       "      <td>0.000331</td>\n",
       "      <td>0.1460</td>\n",
       "      <td>0.226131</td>\n",
       "      <td>0.600069</td>\n",
       "      <td>0.8</td>\n",
       "      <td>1.0</td>\n",
       "      <td>Yes</td>\n",
       "    </tr>\n",
       "    <tr>\n",
       "      <th>68854</th>\n",
       "      <td>1.0</td>\n",
       "      <td>0.054616</td>\n",
       "      <td>0.825381</td>\n",
       "      <td>0.560</td>\n",
       "      <td>0.181818</td>\n",
       "      <td>0.806966</td>\n",
       "      <td>0.0</td>\n",
       "      <td>0.064041</td>\n",
       "      <td>0.108434</td>\n",
       "      <td>0.000000</td>\n",
       "      <td>0.2680</td>\n",
       "      <td>0.288442</td>\n",
       "      <td>0.484990</td>\n",
       "      <td>0.8</td>\n",
       "      <td>1.0</td>\n",
       "      <td>Yes</td>\n",
       "    </tr>\n",
       "    <tr>\n",
       "      <th>51059</th>\n",
       "      <td>1.0</td>\n",
       "      <td>0.018228</td>\n",
       "      <td>0.745178</td>\n",
       "      <td>0.570</td>\n",
       "      <td>0.636364</td>\n",
       "      <td>0.785473</td>\n",
       "      <td>0.0</td>\n",
       "      <td>0.137824</td>\n",
       "      <td>0.850402</td>\n",
       "      <td>0.000021</td>\n",
       "      <td>0.1120</td>\n",
       "      <td>0.692462</td>\n",
       "      <td>0.533969</td>\n",
       "      <td>0.8</td>\n",
       "      <td>1.0</td>\n",
       "      <td>Yes</td>\n",
       "    </tr>\n",
       "    <tr>\n",
       "      <th>30562</th>\n",
       "      <td>1.0</td>\n",
       "      <td>0.031701</td>\n",
       "      <td>0.745178</td>\n",
       "      <td>0.874</td>\n",
       "      <td>0.727273</td>\n",
       "      <td>0.857759</td>\n",
       "      <td>1.0</td>\n",
       "      <td>0.068601</td>\n",
       "      <td>0.168675</td>\n",
       "      <td>0.000011</td>\n",
       "      <td>0.0489</td>\n",
       "      <td>0.909548</td>\n",
       "      <td>0.505206</td>\n",
       "      <td>0.8</td>\n",
       "      <td>1.0</td>\n",
       "      <td>Yes</td>\n",
       "    </tr>\n",
       "    <tr>\n",
       "      <th>30316</th>\n",
       "      <td>1.0</td>\n",
       "      <td>0.030792</td>\n",
       "      <td>0.695431</td>\n",
       "      <td>0.886</td>\n",
       "      <td>0.000000</td>\n",
       "      <td>0.838873</td>\n",
       "      <td>1.0</td>\n",
       "      <td>0.035233</td>\n",
       "      <td>0.028112</td>\n",
       "      <td>0.000000</td>\n",
       "      <td>0.4810</td>\n",
       "      <td>0.618090</td>\n",
       "      <td>0.513757</td>\n",
       "      <td>0.8</td>\n",
       "      <td>1.0</td>\n",
       "      <td>Yes</td>\n",
       "    </tr>\n",
       "    <tr>\n",
       "      <th>...</th>\n",
       "      <td>...</td>\n",
       "      <td>...</td>\n",
       "      <td>...</td>\n",
       "      <td>...</td>\n",
       "      <td>...</td>\n",
       "      <td>...</td>\n",
       "      <td>...</td>\n",
       "      <td>...</td>\n",
       "      <td>...</td>\n",
       "      <td>...</td>\n",
       "      <td>...</td>\n",
       "      <td>...</td>\n",
       "      <td>...</td>\n",
       "      <td>...</td>\n",
       "      <td>...</td>\n",
       "      <td>...</td>\n",
       "    </tr>\n",
       "    <tr>\n",
       "      <th>81052</th>\n",
       "      <td>1.0</td>\n",
       "      <td>0.031945</td>\n",
       "      <td>0.527919</td>\n",
       "      <td>0.731</td>\n",
       "      <td>0.545455</td>\n",
       "      <td>0.817435</td>\n",
       "      <td>0.0</td>\n",
       "      <td>0.057720</td>\n",
       "      <td>0.343373</td>\n",
       "      <td>0.001010</td>\n",
       "      <td>0.3110</td>\n",
       "      <td>0.665327</td>\n",
       "      <td>0.714667</td>\n",
       "      <td>0.8</td>\n",
       "      <td>1.0</td>\n",
       "      <td>Yes</td>\n",
       "    </tr>\n",
       "    <tr>\n",
       "      <th>88407</th>\n",
       "      <td>1.0</td>\n",
       "      <td>0.046535</td>\n",
       "      <td>0.659898</td>\n",
       "      <td>0.715</td>\n",
       "      <td>0.454545</td>\n",
       "      <td>0.820025</td>\n",
       "      <td>0.0</td>\n",
       "      <td>0.262176</td>\n",
       "      <td>0.099699</td>\n",
       "      <td>0.000291</td>\n",
       "      <td>0.1260</td>\n",
       "      <td>0.187940</td>\n",
       "      <td>0.438308</td>\n",
       "      <td>0.8</td>\n",
       "      <td>1.0</td>\n",
       "      <td>Yes</td>\n",
       "    </tr>\n",
       "    <tr>\n",
       "      <th>81589</th>\n",
       "      <td>1.0</td>\n",
       "      <td>0.031496</td>\n",
       "      <td>0.770558</td>\n",
       "      <td>0.459</td>\n",
       "      <td>0.727273</td>\n",
       "      <td>0.820228</td>\n",
       "      <td>1.0</td>\n",
       "      <td>0.098238</td>\n",
       "      <td>0.003243</td>\n",
       "      <td>0.000000</td>\n",
       "      <td>0.0788</td>\n",
       "      <td>0.698492</td>\n",
       "      <td>0.451971</td>\n",
       "      <td>0.8</td>\n",
       "      <td>1.0</td>\n",
       "      <td>Yes</td>\n",
       "    </tr>\n",
       "    <tr>\n",
       "      <th>37200</th>\n",
       "      <td>1.0</td>\n",
       "      <td>0.049644</td>\n",
       "      <td>0.810152</td>\n",
       "      <td>0.744</td>\n",
       "      <td>0.636364</td>\n",
       "      <td>0.817620</td>\n",
       "      <td>0.0</td>\n",
       "      <td>0.140933</td>\n",
       "      <td>0.331325</td>\n",
       "      <td>0.000106</td>\n",
       "      <td>0.2920</td>\n",
       "      <td>0.797990</td>\n",
       "      <td>0.338396</td>\n",
       "      <td>0.8</td>\n",
       "      <td>0.0</td>\n",
       "      <td>No</td>\n",
       "    </tr>\n",
       "    <tr>\n",
       "      <th>81861</th>\n",
       "      <td>1.0</td>\n",
       "      <td>0.046658</td>\n",
       "      <td>0.451777</td>\n",
       "      <td>0.537</td>\n",
       "      <td>0.363636</td>\n",
       "      <td>0.758356</td>\n",
       "      <td>0.0</td>\n",
       "      <td>0.041451</td>\n",
       "      <td>0.697791</td>\n",
       "      <td>0.000017</td>\n",
       "      <td>0.0944</td>\n",
       "      <td>0.131658</td>\n",
       "      <td>0.504450</td>\n",
       "      <td>0.8</td>\n",
       "      <td>1.0</td>\n",
       "      <td>Yes</td>\n",
       "    </tr>\n",
       "  </tbody>\n",
       "</table>\n",
       "<p>235 rows × 16 columns</p>\n",
       "</div>"
      ],
      "text/plain": [
       "       popularity  duration_ms  danceability  energy       key  loudness  \\\n",
       "51015         1.0     0.021172      0.601015   0.457  0.818182  0.803692   \n",
       "68854         1.0     0.054616      0.825381   0.560  0.181818  0.806966   \n",
       "51059         1.0     0.018228      0.745178   0.570  0.636364  0.785473   \n",
       "30562         1.0     0.031701      0.745178   0.874  0.727273  0.857759   \n",
       "30316         1.0     0.030792      0.695431   0.886  0.000000  0.838873   \n",
       "...           ...          ...           ...     ...       ...       ...   \n",
       "81052         1.0     0.031945      0.527919   0.731  0.545455  0.817435   \n",
       "88407         1.0     0.046535      0.659898   0.715  0.454545  0.820025   \n",
       "81589         1.0     0.031496      0.770558   0.459  0.727273  0.820228   \n",
       "37200         1.0     0.049644      0.810152   0.744  0.636364  0.817620   \n",
       "81861         1.0     0.046658      0.451777   0.537  0.363636  0.758356   \n",
       "\n",
       "       mode  speechiness  acousticness  instrumentalness  liveness   valence  \\\n",
       "51015   0.0     0.062487      0.663655          0.000331    0.1460  0.226131   \n",
       "68854   0.0     0.064041      0.108434          0.000000    0.2680  0.288442   \n",
       "51059   0.0     0.137824      0.850402          0.000021    0.1120  0.692462   \n",
       "30562   1.0     0.068601      0.168675          0.000011    0.0489  0.909548   \n",
       "30316   1.0     0.035233      0.028112          0.000000    0.4810  0.618090   \n",
       "...     ...          ...           ...               ...       ...       ...   \n",
       "81052   0.0     0.057720      0.343373          0.001010    0.3110  0.665327   \n",
       "88407   0.0     0.262176      0.099699          0.000291    0.1260  0.187940   \n",
       "81589   1.0     0.098238      0.003243          0.000000    0.0788  0.698492   \n",
       "37200   0.0     0.140933      0.331325          0.000106    0.2920  0.797990   \n",
       "81861   0.0     0.041451      0.697791          0.000017    0.0944  0.131658   \n",
       "\n",
       "          tempo  time_signature  Predicted Correct?  \n",
       "51015  0.600069             0.8        1.0      Yes  \n",
       "68854  0.484990             0.8        1.0      Yes  \n",
       "51059  0.533969             0.8        1.0      Yes  \n",
       "30562  0.505206             0.8        1.0      Yes  \n",
       "30316  0.513757             0.8        1.0      Yes  \n",
       "...         ...             ...        ...      ...  \n",
       "81052  0.714667             0.8        1.0      Yes  \n",
       "88407  0.438308             0.8        1.0      Yes  \n",
       "81589  0.451971             0.8        1.0      Yes  \n",
       "37200  0.338396             0.8        0.0       No  \n",
       "81861  0.504450             0.8        1.0      Yes  \n",
       "\n",
       "[235 rows x 16 columns]"
      ]
     },
     "execution_count": 129,
     "metadata": {},
     "output_type": "execute_result"
    }
   ],
   "source": [
    "df_test[df_test['popularity'] == 1.0]"
   ]
  },
  {
   "cell_type": "code",
   "execution_count": 130,
   "id": "743a61c4",
   "metadata": {},
   "outputs": [
    {
     "data": {
      "image/png": "[encoded data removed]",
      "text/plain": [
       "<Figure size 432x288 with 1 Axes>"
      ]
     },
     "metadata": {
      "needs_background": "light"
     },
     "output_type": "display_data"
    }
   ],
   "source": [
    "dados_filtrados = df_test[df_test['popularity'] == 1.0]\n",
    "\n",
    "# Conta o número de ocorrências para cada categoria na coluna desejada\n",
    "contagem = dados_filtrados['Correct?'].value_counts()\n",
    "\n",
    "# Cria o gráfico de barras\n",
    "plt.bar(contagem.index, contagem.values)\n",
    "\n",
    "# Define rótulos e título do gráfico\n",
    "plt.title('Quantidade de acertos e erros')\n",
    "\n",
    "# Adiciona os números acima das barras\n",
    "for i, valor in enumerate(contagem.values):\n",
    "    plt.text(contagem.index[i], valor+0.1, str(valor), ha='center')\n",
    "\n",
    "plt.show()"
   ]
  },
  {
   "cell_type": "code",
   "execution_count": 131,
   "id": "c63a0243",
   "metadata": {},
   "outputs": [
    {
     "data": {
      "text/plain": [
       "Yes    73.617021\n",
       "No     26.382979\n",
       "Name: Correct?, dtype: float64"
      ]
     },
     "execution_count": 131,
     "metadata": {},
     "output_type": "execute_result"
    }
   ],
   "source": [
    "porcentagem = contagem / contagem.sum() * 100\n",
    "porcentagem"
   ]
  },
  {
   "cell_type": "markdown",
   "id": "a4763df6",
   "metadata": {},
   "source": [
    "É isso! Obrigada por acompanhar o desenvolvimento do modelo :)"
   ]
  }
 ],
 "metadata": {
  "kernelspec": {
   "display_name": "Python 3 (ipykernel)",
   "language": "python",
   "name": "python3"
  },
  "language_info": {
   "codemirror_mode": {
    "name": "ipython",
    "version": 3
   },
   "file_extension": ".py",
   "mimetype": "text/x-python",
   "name": "python",
   "nbconvert_exporter": "python",
   "pygments_lexer": "ipython3",
   "version": "3.10.2"
  }
 },
 "nbformat": 4,
 "nbformat_minor": 5
}
